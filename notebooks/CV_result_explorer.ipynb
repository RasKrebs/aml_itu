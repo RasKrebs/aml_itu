{
  "cells": [
    {
      "cell_type": "markdown",
      "metadata": {
        "id": "UmGPfIwRKzFV"
      },
      "source": [
        "# `Setup`"
      ]
    },
    {
      "cell_type": "markdown",
      "metadata": {},
      "source": [
        "This notebook is built to for performing cross validation training for models to evaluate dataset split effects"
      ]
    },
    {
      "cell_type": "markdown",
      "metadata": {},
      "source": [
        "### Library Import"
      ]
    },
    {
      "cell_type": "code",
      "execution_count": 1,
      "metadata": {
        "colab": {
          "base_uri": "https://localhost:8080/"
        },
        "id": "ceRf-vSlKzFW",
        "outputId": "f0388aa0-7ed4-4198-fab2-626246eae361"
      },
      "outputs": [
        {
          "name": "stdout",
          "output_type": "stream",
          "text": [
            "From https://github.com/RasKrebs/aml_itu\n",
            " * branch            main       -> FETCH_HEAD\n",
            "Already up to date.\n",
            "/Users/rasmuskrebs/Documents/School/semester_3/advanced_ml/aml_itu\n",
            "MPS device found.\n"
          ]
        }
      ],
      "source": [
        "import pandas as pd\n",
        "import numpy as np\n",
        "import matplotlib.pyplot as plt\n",
        "import seaborn as sns\n",
        "import os\n",
        "import time\n",
        "import copy\n",
        "import datetime as dt\n",
        "from math import ceil\n",
        "import csv\n",
        "try:\n",
        "    # Mounting Colab Drive if possible\n",
        "    from google.colab import drive\n",
        "    drive.mount('/content/drive')\n",
        "\n",
        "    # Cloning repo for colab\n",
        "    if 'aml_itu' in os.getcwd():\n",
        "        %cd aml_itu/\n",
        "        !git pull https://github.com/RasKrebs/aml_itu\n",
        "    else:\n",
        "        !git clone https://github.com/RasKrebs/aml_itu\n",
        "        %cd aml_itu/\n",
        "    os.environ[\"COLAB\"] = \"True\"\n",
        "\n",
        "except:\n",
        "    # Changing directory into aml_itu\n",
        "    if os.getcwd().split('/')[-1] != 'aml_itu': os.chdir(os.path.abspath('.').split('aml_itu/')[0]+'aml_itu')\n",
        "    !git pull origin main --ff-only\n",
        "    os.environ[\"COLAB\"] = \"False\"\n",
        "\n",
        "# Utils Import\n",
        "from utils.helpers import *\n",
        "from utils.StatefarmPytorchDataset import StateFarmDataset\n",
        "import warnings\n",
        "warnings.filterwarnings('ignore')\n",
        "\n",
        "# Torch\n",
        "import torch\n",
        "from torch.autograd import Variable\n",
        "from torch import nn\n",
        "import torchvision\n",
        "import torchvision.transforms as T\n",
        "from torchvision.transforms import v2\n",
        "import matplotlib.pyplot as plt\n",
        "from torch.utils.data import DataLoader\n",
        "import math\n",
        "\n",
        "\n",
        "# Install torchinfo, import if it's available\n",
        "try:\n",
        "  import torchinfo\n",
        "except:\n",
        "  !pip install torchinfo\n",
        "  import torchinfo\n",
        "\n",
        "from torchinfo import summary\n",
        "\n",
        "\n",
        "# Printing current working directory\n",
        "print(os.getcwd())\n",
        "\n",
        "# Setting up device\n",
        "if torch.cuda.is_available():\n",
        "    device = torch.device(\"cuda\")\n",
        "    print (f\"GPU is available\")\n",
        "elif torch.backends.mps.is_available():\n",
        "    device = torch.device(\"mps\")\n",
        "    print('MPS device found.')\n",
        "else:\n",
        "    print (\"No GPU available, using CPU instead\")\n",
        "    \n",
        "from utils.models.EfficientNet import EfficientNet"
      ]
    },
    {
      "cell_type": "code",
      "execution_count": 2,
      "metadata": {},
      "outputs": [],
      "source": [
        "#!pip install pandas\n",
        "#!pip install matplotlib\n",
        "#!pip install seaborn\n",
        "#!pip install torchvision\n",
        "# !pip install torch"
      ]
    },
    {
      "cell_type": "markdown",
      "metadata": {},
      "source": [
        "### `Split Generator`"
      ]
    },
    {
      "cell_type": "code",
      "execution_count": 3,
      "metadata": {},
      "outputs": [],
      "source": [
        "def cross_validation_generator(config:dict):\n",
        "    \"\"\"Function for generating cross validation splits for our dataset\"\"\"\n",
        "    # Seed for reproducability\n",
        "    seed = 42\n",
        "    \n",
        "    # Extract all data (excl. holdout data for later use)\n",
        "    data = StateFarmDataset(config).metadata[['subject','target']]\n",
        "    \n",
        "    # Generate subject counts for our dataset\n",
        "    subjects_count = data.groupby('subject').count().reset_index().rename(columns={'target':'counts'}).sort_values('counts', ascending=False)\n",
        "    \n",
        "    # Shuffle around\n",
        "    subjects_count = subjects_count.sample(frac=1, random_state = seed).reset_index(drop=True)\n",
        "    \n",
        "    \n",
        "    # Extract subjects for Val + Test\n",
        "    cv_split = 1\n",
        "    subject_split = pd.DataFrame(columns=['subject','split', 'cv_round'])\n",
        "    \n",
        "    # Looping through subjects - ensuring subjects are only once in either val or test\n",
        "    for i in range(0, 20, 4):\n",
        "        # Subjects per test and val split\n",
        "        num_subjects = 2\n",
        "        \n",
        "        # Lower and upper index bound for test split\n",
        "        test_lower = i\n",
        "        test_upper = test_lower + num_subjects\n",
        "        \n",
        "        # Lower and upper index bound for val split\n",
        "        val_lower = test_upper\n",
        "        val_upper = val_lower + num_subjects\n",
        "\n",
        "        # Extracting Test Subjects\n",
        "        test_subjects = subjects_count.iloc[test_lower:test_upper].subject.to_list()\n",
        "        subject_split = pd.concat([subject_split, pd.DataFrame({'subject':test_subjects, 'split':'test', 'cv_round':cv_split})], ignore_index=True)\n",
        "        \n",
        "        # Extracting Validation Subjects\n",
        "        val_subjects = subjects_count.iloc[val_lower:val_upper].subject.to_list()\n",
        "        subject_split = pd.concat([subject_split, pd.DataFrame({'subject':val_subjects, 'split':'val', 'cv_round':cv_split})], ignore_index=True)\n",
        "\n",
        "        # Add 1 to cv_split\n",
        "        cv_split += 1\n",
        "    return subject_split"
      ]
    },
    {
      "cell_type": "code",
      "execution_count": 4,
      "metadata": {
        "colab": {
          "base_uri": "https://localhost:8080/"
        },
        "id": "fR4A88qzKzFX",
        "outputId": "bf171fda-ed9b-42f4-a24a-2a2f83150932"
      },
      "outputs": [],
      "source": [
        "# Config file\n",
        "config = load_config(eval(os.environ[\"COLAB\"]))\n",
        "\n",
        "# Generating cross validation splits\n",
        "split = cross_validation_generator(config)"
      ]
    },
    {
      "cell_type": "markdown",
      "metadata": {},
      "source": [
        "# Loadding Results"
      ]
    },
    {
      "cell_type": "code",
      "execution_count": 16,
      "metadata": {},
      "outputs": [],
      "source": [
        "# Loading csv's produced during training\n",
        "tiny_cv = pd.read_csv('outputs/TinyVGG_500k/TinyVgg_500k_20231205_181823_CV_splits.csv')\n",
        "efficient_cv = pd.read_csv('outputs/EfficientNetB0-30122023_CV/EfficientNetB0-30122023_20231230_132001_CV_splits.csv')\n",
        "\n",
        "# Adding model name to csv's\n",
        "tiny_cv['model'] = 'TinyVGG'\n",
        "efficient_cv['model'] = 'EfficientNetB0'\n",
        "\n",
        "# Concatenating csv's\n",
        "cv = pd.concat([tiny_cv, efficient_cv], ignore_index=True)\n",
        "cv['accuracy_diff'] = cv['test_accuracy'] - cv['val_accuracy']\n",
        "cv_melt = cv.melt(id_vars=['model','cv_fold'], value_vars=['val_accuracy','test_accuracy'], var_name='metric', value_name='value')"
      ]
    },
    {
      "cell_type": "markdown",
      "metadata": {},
      "source": [
        "### Displaying Results"
      ]
    },
    {
      "cell_type": "code",
      "execution_count": 6,
      "metadata": {},
      "outputs": [
        {
          "data": {
            "image/png": "[encoded data removed]",
            "text/plain": [
              "<Figure size 1000x500 with 1 Axes>"
            ]
          },
          "metadata": {},
          "output_type": "display_data"
        }
      ],
      "source": [
        "fig, axs = plt.subplots(figsize=(10, 5))\n",
        "\n",
        "sns.barplot(ax=axs, data=cv, x='cv_fold', y='accuracy_diff', hue='model', palette=['#1f77b4', '#d62728'])\n",
        "axs.set_title(f'Accuracy difference over Folds. Mean TinyVGG {cv[cv.model == \"TinyVGG\"].accuracy_diff.mean():.2f}, Mean EfficientNetB0 {cv[cv.model == \"EfficientNetB0\"].accuracy_diff.mean():.2f}')\n",
        "axs.set_xlabel('Fold')\n",
        "axs.set_ylabel('Accuracy Difference')\n",
        "# Set legend to two columns and no boardera\n",
        "axs.legend(ncol = 2, frameon=False,loc='upper left')\n",
        "# sns.barplot(ax=axs[1], \n",
        "#             data=cv.groupby('model').agg(mean_test_accuracy = ('test_accuracy', 'mean'), \n",
        "#                         mean_val_accuracy = ('val_accuracy', 'mean')).reset_index().melt(id_vars='model', value_vars=['mean_test_accuracy','mean_val_accuracy'], var_name='metric', value_name='value'), \n",
        "#             x='model', y='value', hue='metric', palette=['#1f77b4', '#d62728'])\n",
        "\n",
        "plt.show()"
      ]
    },
    {
      "cell_type": "code",
      "execution_count": 17,
      "metadata": {},
      "outputs": [
        {
          "data": {
            "text/html": [
              "<div>\n",
              "<style scoped>\n",
              "    .dataframe tbody tr th:only-of-type {\n",
              "        vertical-align: middle;\n",
              "    }\n",
              "\n",
              "    .dataframe tbody tr th {\n",
              "        vertical-align: top;\n",
              "    }\n",
              "\n",
              "    .dataframe thead th {\n",
              "        text-align: right;\n",
              "    }\n",
              "</style>\n",
              "<table border=\"1\" class=\"dataframe\">\n",
              "  <thead>\n",
              "    <tr style=\"text-align: right;\">\n",
              "      <th></th>\n",
              "      <th>model</th>\n",
              "      <th>cv_fold</th>\n",
              "      <th>metric</th>\n",
              "      <th>value</th>\n",
              "    </tr>\n",
              "  </thead>\n",
              "  <tbody>\n",
              "    <tr>\n",
              "      <th>0</th>\n",
              "      <td>TinyVGG</td>\n",
              "      <td>1</td>\n",
              "      <td>val_accuracy</td>\n",
              "      <td>0.495192</td>\n",
              "    </tr>\n",
              "    <tr>\n",
              "      <th>1</th>\n",
              "      <td>TinyVGG</td>\n",
              "      <td>2</td>\n",
              "      <td>val_accuracy</td>\n",
              "      <td>0.697419</td>\n",
              "    </tr>\n",
              "    <tr>\n",
              "      <th>2</th>\n",
              "      <td>TinyVGG</td>\n",
              "      <td>3</td>\n",
              "      <td>val_accuracy</td>\n",
              "      <td>0.788075</td>\n",
              "    </tr>\n",
              "    <tr>\n",
              "      <th>3</th>\n",
              "      <td>TinyVGG</td>\n",
              "      <td>4</td>\n",
              "      <td>val_accuracy</td>\n",
              "      <td>0.380826</td>\n",
              "    </tr>\n",
              "    <tr>\n",
              "      <th>4</th>\n",
              "      <td>TinyVGG</td>\n",
              "      <td>5</td>\n",
              "      <td>val_accuracy</td>\n",
              "      <td>0.415319</td>\n",
              "    </tr>\n",
              "    <tr>\n",
              "      <th>5</th>\n",
              "      <td>EfficientNetB0</td>\n",
              "      <td>1</td>\n",
              "      <td>val_accuracy</td>\n",
              "      <td>0.599359</td>\n",
              "    </tr>\n",
              "    <tr>\n",
              "      <th>6</th>\n",
              "      <td>EfficientNetB0</td>\n",
              "      <td>2</td>\n",
              "      <td>val_accuracy</td>\n",
              "      <td>0.610404</td>\n",
              "    </tr>\n",
              "    <tr>\n",
              "      <th>7</th>\n",
              "      <td>EfficientNetB0</td>\n",
              "      <td>3</td>\n",
              "      <td>val_accuracy</td>\n",
              "      <td>0.862496</td>\n",
              "    </tr>\n",
              "    <tr>\n",
              "      <th>8</th>\n",
              "      <td>EfficientNetB0</td>\n",
              "      <td>4</td>\n",
              "      <td>val_accuracy</td>\n",
              "      <td>0.653602</td>\n",
              "    </tr>\n",
              "    <tr>\n",
              "      <th>9</th>\n",
              "      <td>EfficientNetB0</td>\n",
              "      <td>5</td>\n",
              "      <td>val_accuracy</td>\n",
              "      <td>0.533333</td>\n",
              "    </tr>\n",
              "    <tr>\n",
              "      <th>10</th>\n",
              "      <td>TinyVGG</td>\n",
              "      <td>1</td>\n",
              "      <td>test_accuracy</td>\n",
              "      <td>0.573375</td>\n",
              "    </tr>\n",
              "    <tr>\n",
              "      <th>11</th>\n",
              "      <td>TinyVGG</td>\n",
              "      <td>2</td>\n",
              "      <td>test_accuracy</td>\n",
              "      <td>0.722181</td>\n",
              "    </tr>\n",
              "    <tr>\n",
              "      <th>12</th>\n",
              "      <td>TinyVGG</td>\n",
              "      <td>3</td>\n",
              "      <td>test_accuracy</td>\n",
              "      <td>0.807566</td>\n",
              "    </tr>\n",
              "    <tr>\n",
              "      <th>13</th>\n",
              "      <td>TinyVGG</td>\n",
              "      <td>4</td>\n",
              "      <td>test_accuracy</td>\n",
              "      <td>0.550145</td>\n",
              "    </tr>\n",
              "    <tr>\n",
              "      <th>14</th>\n",
              "      <td>TinyVGG</td>\n",
              "      <td>5</td>\n",
              "      <td>test_accuracy</td>\n",
              "      <td>0.581547</td>\n",
              "    </tr>\n",
              "    <tr>\n",
              "      <th>15</th>\n",
              "      <td>EfficientNetB0</td>\n",
              "      <td>1</td>\n",
              "      <td>test_accuracy</td>\n",
              "      <td>0.726696</td>\n",
              "    </tr>\n",
              "    <tr>\n",
              "      <th>16</th>\n",
              "      <td>EfficientNetB0</td>\n",
              "      <td>2</td>\n",
              "      <td>test_accuracy</td>\n",
              "      <td>0.698570</td>\n",
              "    </tr>\n",
              "    <tr>\n",
              "      <th>17</th>\n",
              "      <td>EfficientNetB0</td>\n",
              "      <td>3</td>\n",
              "      <td>test_accuracy</td>\n",
              "      <td>0.778509</td>\n",
              "    </tr>\n",
              "    <tr>\n",
              "      <th>18</th>\n",
              "      <td>EfficientNetB0</td>\n",
              "      <td>4</td>\n",
              "      <td>test_accuracy</td>\n",
              "      <td>0.713663</td>\n",
              "    </tr>\n",
              "    <tr>\n",
              "      <th>19</th>\n",
              "      <td>EfficientNetB0</td>\n",
              "      <td>5</td>\n",
              "      <td>test_accuracy</td>\n",
              "      <td>0.662133</td>\n",
              "    </tr>\n",
              "  </tbody>\n",
              "</table>\n",
              "</div>"
            ],
            "text/plain": [
              "             model  cv_fold         metric     value\n",
              "0          TinyVGG        1   val_accuracy  0.495192\n",
              "1          TinyVGG        2   val_accuracy  0.697419\n",
              "2          TinyVGG        3   val_accuracy  0.788075\n",
              "3          TinyVGG        4   val_accuracy  0.380826\n",
              "4          TinyVGG        5   val_accuracy  0.415319\n",
              "5   EfficientNetB0        1   val_accuracy  0.599359\n",
              "6   EfficientNetB0        2   val_accuracy  0.610404\n",
              "7   EfficientNetB0        3   val_accuracy  0.862496\n",
              "8   EfficientNetB0        4   val_accuracy  0.653602\n",
              "9   EfficientNetB0        5   val_accuracy  0.533333\n",
              "10         TinyVGG        1  test_accuracy  0.573375\n",
              "11         TinyVGG        2  test_accuracy  0.722181\n",
              "12         TinyVGG        3  test_accuracy  0.807566\n",
              "13         TinyVGG        4  test_accuracy  0.550145\n",
              "14         TinyVGG        5  test_accuracy  0.581547\n",
              "15  EfficientNetB0        1  test_accuracy  0.726696\n",
              "16  EfficientNetB0        2  test_accuracy  0.698570\n",
              "17  EfficientNetB0        3  test_accuracy  0.778509\n",
              "18  EfficientNetB0        4  test_accuracy  0.713663\n",
              "19  EfficientNetB0        5  test_accuracy  0.662133"
            ]
          },
          "execution_count": 17,
          "metadata": {},
          "output_type": "execute_result"
        }
      ],
      "source": [
        "cv_melt"
      ]
    },
    {
      "cell_type": "code",
      "execution_count": 78,
      "metadata": {},
      "outputs": [
        {
          "data": {
            "image/png": "[encoded data removed]",
            "text/plain": [
              "<Figure size 1030x400 with 2 Axes>"
            ]
          },
          "metadata": {},
          "output_type": "display_data"
        },
        {
          "data": {
            "image/png": "[encoded data removed]",
            "text/plain": [
              "<Figure size 1000x400 with 1 Axes>"
            ]
          },
          "metadata": {},
          "output_type": "display_data"
        }
      ],
      "source": [
        "fig, axs = plt.subplots(1, 2, figsize=(10.3, 4), sharey=True)\n",
        "\n",
        "sns.barplot(ax=axs[0], data=cv_melt[cv_melt.model == 'TinyVGG'].replace({'val_accuracy':'Val','test_accuracy':'Test'}), x='cv_fold', y='value', hue='metric', palette=['#1f77b4', '#d62728'])\n",
        "axs[0].set_title(f'TinyVGG')\n",
        "axs[0].set_xlabel('Fold')\n",
        "axs[0].set_ylabel('Accuracy')\n",
        "axs[0].legend(ncol = 2, frameon=False, bbox_to_anchor=(1.4, 1.12))\n",
        "\n",
        "sns.barplot(ax=axs[1], data=cv_melt[cv_melt.model == 'EfficientNetB0'], x='cv_fold', y='value', hue='metric', palette=['#1f77b4', '#d62728'])\n",
        "axs[1].set_title(f'EfficientNetB0')\n",
        "axs[1].set_xlabel('Fold')\n",
        "axs[1].set_ylabel('')\n",
        "axs[1].legend().remove()\n",
        "\n",
        "fig, axs = plt.subplots(figsize=(10, 4))\n",
        "\n",
        "sns.barplot(ax=axs, data=cv, x='cv_fold', y='accuracy_diff', hue='model', palette=['#1f77b4', '#d62728'])\n",
        "axs.set_title(f'Accuracy difference over Folds')\n",
        "axs.set_xlabel('Fold')\n",
        "axs.set_ylabel('Accuracy Difference')\n",
        "# Set legend to two columns and no boardera\n",
        "axs.legend(ncol = 2, frameon=False,loc='upper left')\n",
        "plt.show()\n",
        "\n",
        "plt.show()"
      ]
    }
  ],
  "metadata": {
    "accelerator": "GPU",
    "colab": {
      "gpuType": "T4",
      "include_colab_link": true,
      "provenance": []
    },
    "kernelspec": {
      "display_name": "Python 3",
      "name": "python3"
    },
    "language_info": {
      "codemirror_mode": {
        "name": "ipython",
        "version": 3
      },
      "file_extension": ".py",
      "mimetype": "text/x-python",
      "name": "python",
      "nbconvert_exporter": "python",
      "pygments_lexer": "ipython3",
      "version": "3.11.3"
    }
  },
  "nbformat": 4,
  "nbformat_minor": 0
}
