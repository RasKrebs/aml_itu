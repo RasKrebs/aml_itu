{
  "cells": [
    {
      "cell_type": "markdown",
      "metadata": {
        "id": "UmGPfIwRKzFV"
      },
      "source": [
        "# `Setup`"
      ]
    },
    {
      "cell_type": "markdown",
      "metadata": {},
      "source": [
        "This notebook is built to for performing cross validation training for models to evaluate dataset split effects"
      ]
    },
    {
      "cell_type": "markdown",
      "metadata": {},
      "source": [
        "### Library Import"
      ]
    },
    {
      "cell_type": "code",
      "execution_count": 281,
      "metadata": {
        "colab": {
          "base_uri": "https://localhost:8080/"
        },
        "id": "ceRf-vSlKzFW",
        "outputId": "f0388aa0-7ed4-4198-fab2-626246eae361"
      },
      "outputs": [
        {
          "name": "stdout",
          "output_type": "stream",
          "text": [
            "From https://github.com/RasKrebs/aml_itu\n",
            " * branch            main       -> FETCH_HEAD\n",
            "Already up to date.\n",
            "/Users/rasmuskrebs/Documents/School/semester_3/advanced_ml/aml_itu\n",
            "MPS device found.\n"
          ]
        }
      ],
      "source": [
        "import pandas as pd\n",
        "import numpy as np\n",
        "import matplotlib.pyplot as plt\n",
        "import seaborn as sns\n",
        "import os\n",
        "import time\n",
        "import copy\n",
        "import datetime as dt\n",
        "from math import ceil\n",
        "import csv\n",
        "try:\n",
        "    # Mounting Colab Drive if possible\n",
        "    from google.colab import drive\n",
        "    drive.mount('/content/drive')\n",
        "\n",
        "    # Cloning repo for colab\n",
        "    if 'aml_itu' in os.getcwd():\n",
        "        %cd aml_itu/\n",
        "        !git pull https://github.com/RasKrebs/aml_itu\n",
        "    else:\n",
        "        !git clone https://github.com/RasKrebs/aml_itu\n",
        "        %cd aml_itu/\n",
        "    os.environ[\"COLAB\"] = \"True\"\n",
        "\n",
        "except:\n",
        "    # Changing directory into aml_itu\n",
        "    if os.getcwd().split('/')[-1] != 'aml_itu': os.chdir(os.path.abspath('.').split('aml_itu/')[0]+'aml_itu')\n",
        "    !git pull origin main --ff-only\n",
        "    os.environ[\"COLAB\"] = \"False\"\n",
        "\n",
        "# Utils Import\n",
        "from utils.helpers import *\n",
        "from utils.StatefarmPytorchDataset import StateFarmDataset\n",
        "import warnings\n",
        "warnings.filterwarnings('ignore')\n",
        "\n",
        "# Torch\n",
        "import torch\n",
        "from torch.autograd import Variable\n",
        "from torch import nn\n",
        "import torchvision\n",
        "import torchvision.transforms as T\n",
        "from torchvision.transforms import v2\n",
        "import matplotlib.pyplot as plt\n",
        "from torch.utils.data import DataLoader\n",
        "import math\n",
        "\n",
        "\n",
        "# Install torchinfo, import if it's available\n",
        "try:\n",
        "  import torchinfo\n",
        "except:\n",
        "  !pip install torchinfo\n",
        "  import torchinfo\n",
        "\n",
        "from torchinfo import summary\n",
        "\n",
        "\n",
        "# Printing current working directory\n",
        "print(os.getcwd())\n",
        "\n",
        "# Setting up device\n",
        "if torch.cuda.is_available():\n",
        "    device = torch.device(\"cuda\")\n",
        "    print (f\"GPU is available\")\n",
        "elif torch.backends.mps.is_available():\n",
        "    device = torch.device(\"mps\")\n",
        "    print('MPS device found.')\n",
        "else:\n",
        "    print (\"No GPU available, using CPU instead\")"
      ]
    },
    {
      "cell_type": "markdown",
      "metadata": {},
      "source": [
        "### Setting seed"
      ]
    },
    {
      "cell_type": "code",
      "execution_count": 282,
      "metadata": {},
      "outputs": [],
      "source": [
        "# Setting seed\n",
        "def set_seed (seed = 42):\n",
        "    np.random.seed(seed)\n",
        "    torch.manual_seed(seed)\n",
        "    torch.mps.manual_seed(seed)\n",
        "    \n",
        "set_seed(42)"
      ]
    },
    {
      "cell_type": "markdown",
      "metadata": {
        "id": "qujmd-H5KzFX"
      },
      "source": [
        "# `Helpers`"
      ]
    },
    {
      "cell_type": "markdown",
      "metadata": {},
      "source": [
        "### `Split Generator`"
      ]
    },
    {
      "cell_type": "code",
      "execution_count": 271,
      "metadata": {},
      "outputs": [],
      "source": [
        "def cross_validation_generator(config:dict):\n",
        "    \"\"\"Function for generating cross validation splits for our dataset\"\"\"\n",
        "    # Seed for reproducability\n",
        "    seed = 42\n",
        "    \n",
        "    # Extract all data (excl. holdout data for later use)\n",
        "    data = StateFarmDataset(config).metadata[['subject','target']]\n",
        "    \n",
        "    # Generate subject counts for our dataset\n",
        "    subjects_count = data.groupby('subject').count().reset_index().rename(columns={'target':'counts'}).sort_values('counts', ascending=False)\n",
        "    \n",
        "    # Shuffle around\n",
        "    subjects_count = subjects_count.sample(frac=1, random_state = seed).reset_index(drop=True)\n",
        "    \n",
        "    \n",
        "    # Extract subjects for Val + Test\n",
        "    cv_split = 1\n",
        "    subject_split = pd.DataFrame(columns=['subject','split', 'cv_round'])\n",
        "    \n",
        "    # Looping through subjects - ensuring subjects are only once in either val or test\n",
        "    for i in range(0, 20, 4):\n",
        "        # Subjects per test and val split\n",
        "        num_subjects = 2\n",
        "        \n",
        "        # Lower and upper index bound for test split\n",
        "        test_lower = i\n",
        "        test_upper = test_lower + num_subjects\n",
        "        \n",
        "        # Lower and upper index bound for val split\n",
        "        val_lower = test_upper\n",
        "        val_upper = val_lower + num_subjects\n",
        "\n",
        "        # Extracting Test Subjects\n",
        "        test_subjects = subjects_count.iloc[test_lower:test_upper].subject.to_list()\n",
        "        subject_split = subject_split.append(pd.DataFrame({'subject':test_subjects, 'split':'test', 'cv_round':cv_split}), ignore_index=True)\n",
        "\n",
        "        # Extracting Validation Subjects\n",
        "        val_subjects = subjects_count.iloc[val_lower:val_upper].subject.to_list()\n",
        "        subject_split = subject_split.append(pd.DataFrame({'subject':val_subjects, 'split':'val', 'cv_round':cv_split}), ignore_index=True)\n",
        "        \n",
        "\n",
        "        # Add 1 to cv_split\n",
        "        cv_split += 1\n",
        "    return subject_split"
      ]
    },
    {
      "cell_type": "code",
      "execution_count": 272,
      "metadata": {
        "colab": {
          "base_uri": "https://localhost:8080/"
        },
        "id": "fR4A88qzKzFX",
        "outputId": "bf171fda-ed9b-42f4-a24a-2a2f83150932"
      },
      "outputs": [],
      "source": [
        "# Config file\n",
        "config = load_config(eval(os.environ[\"COLAB\"]))\n",
        "\n",
        "# Generating cross validation splits\n",
        "split = cross_validation_generator(config)"
      ]
    },
    {
      "cell_type": "markdown",
      "metadata": {
        "id": "qijKuDacQYyl"
      },
      "source": [
        "### `Training Helpers`"
      ]
    },
    {
      "cell_type": "code",
      "execution_count": 273,
      "metadata": {},
      "outputs": [],
      "source": [
        "def visualize_training(history, num_epochs=50):\n",
        "    \"\"\"Function for visualizing training performance\"\"\"\n",
        "    \n",
        "    # Generate Figure\n",
        "    fig, axs = plt.subplots(1, 2, figsize=(12, 5))\n",
        "    \n",
        "    # Loss Plots\n",
        "    sns.lineplot(y=history['train_loss'], x=list(range(len(history['train_loss']))), ax=axs[0], label='Train Loss')\n",
        "    sns.lineplot(y=history['val_loss'], x=list(range(len(history['val_loss']))), ax=axs[0], label='Validation Loss')\n",
        "    axs[0].set_ylabel('Cross Entropy Loss')\n",
        "    axs[0].set_xlabel('Epochs')\n",
        "    axs[0].set_xlim(0, num_epochs)\n",
        "\n",
        "    # Accuracy Plots\n",
        "    sns.lineplot(y=history['train_acc'], x=list(range(len(history['train_acc']))), ax=axs[1], label='Train Accuracy')\n",
        "    sns.lineplot(y=history['val_acc'], x=list(range(len(history['val_acc']))), ax=axs[1], label='Validation Accuracy')\n",
        "    axs[1].set_ylabel('Accuracy')\n",
        "    axs[1].set_xlabel('Epochs')\n",
        "    axs[1].set_xlim(0, num_epochs)\n",
        "    \n",
        "    # Show plot\n",
        "    plt.show()"
      ]
    },
    {
      "cell_type": "code",
      "execution_count": 307,
      "metadata": {
        "id": "VPo-51GAQYyl"
      },
      "outputs": [],
      "source": [
        "def train_step(model, dataloader, loss_fn,optimizer, device):\n",
        "    \"\"\"Train step for a single epoch. Taken from PyTorch 'Training with PyTorch'\"\"\"\n",
        "    \n",
        "    # Losses and accuracies\n",
        "    train_loss, train_acc = 0, 0\n",
        "\n",
        "    for i, data in enumerate(dataloader):\n",
        "        \n",
        "        # Extracting data and labels + moving to device\n",
        "        imgs, labels = data\n",
        "        imgs, labels = imgs.to(device), labels.to(device)\n",
        "        \n",
        "        # Zero-ing gradients for every new batch\n",
        "        optimizer.zero_grad()\n",
        "\n",
        "        # Forward pass\n",
        "        prediction = model(imgs)\n",
        "        \n",
        "        # Computing Loss and Gradient\n",
        "        loss = loss_fn(prediction, labels)\n",
        "        loss.backward()\n",
        "\n",
        "        optimizer.step()\n",
        "\n",
        "        # Update train loss and accuracy\n",
        "        train_loss += loss.item()\n",
        "        train_acc += (prediction.argmax(1) == labels).type(torch.float).mean().item()\n",
        "    # Return train loss and accuracy\n",
        "    return train_loss / len(dataloader), train_acc / len(dataloader)\n"
      ]
    },
    {
      "cell_type": "code",
      "execution_count": 352,
      "metadata": {},
      "outputs": [],
      "source": [
        "def test(model, dataloader, device):\n",
        "    \"\"\"Test loop\"\"\"\n",
        "    # Setup test accuracy\n",
        "    test_acc = 0\n",
        "    model.eval()\n",
        "    images = []\n",
        "    classes = []\n",
        "    predictions = []\n",
        "    predictions_argmax = []\n",
        "    \n",
        "    # Disable gradient calculations\n",
        "    with torch.no_grad():\n",
        "        for i, data in enumerate(dataloader):   \n",
        "            # Extract imgs and labels and sent to device\n",
        "            imgs, labels = data\n",
        "            images.append(imgs), classes.append(labels)\n",
        "            \n",
        "            imgs, labels  = imgs.to(device), labels.to(device)\n",
        "\n",
        "            # Forward pass\n",
        "            prediction = model(imgs)\n",
        "            predictions.append(prediction)\n",
        "            predictions_argmax.append(prediction.argmax(1))\n",
        "\n",
        "            # Update test accuracy\n",
        "            test_acc += (prediction.argmax(1) == labels).type(torch.float).mean().item()\n",
        "    # Return test accuracy\n",
        "    return (test_acc / len(dataloader)), images, classes, predictions, predictions_argmax"
      ]
    },
    {
      "cell_type": "code",
      "execution_count": 353,
      "metadata": {
        "id": "P13K9bx-QYyl"
      },
      "outputs": [],
      "source": [
        "def validation(model, dataloader, loss_fn, device):\n",
        "    \"\"\"Validation loop\"\"\"\n",
        "    # Setup validation loss and accuracy\n",
        "    val_loss, val_acc = 0, 0\n",
        "\n",
        "    # Disable gradient calculations\n",
        "    with torch.no_grad():\n",
        "        for i, data in enumerate(dataloader):   \n",
        "            # Extract imgs and labels and sent to device\n",
        "            imgs, labels = data\n",
        "            imgs, labels  = imgs.to(device), labels.to(device)\n",
        "\n",
        "            # Forward pass and update validation loss\n",
        "            prediction = model(imgs)\n",
        "            loss = loss_fn(prediction, labels)\n",
        "            val_loss += loss.item()\n",
        "\n",
        "            # Update validation accuracy\n",
        "            val_acc += (prediction.argmax(1) == labels).type(torch.float).mean().item()\n",
        "    # Return validation loss and accuracy\n",
        "    return val_loss / len(dataloader), val_acc / len(dataloader)"
      ]
    },
    {
      "cell_type": "code",
      "execution_count": 370,
      "metadata": {},
      "outputs": [],
      "source": [
        "def save_model(model, model_name, cv_fold, epoch):\n",
        "    \"\"\"Function for saving model during training\"\"\"\n",
        "    # Model name, with path\n",
        "    timestamp = dt.datetime.now().strftime('%Y%m%d_%H%M%S')\n",
        "    file = f'{model_name}_{timestamp}_cv_fold_{cv_fold}_epoch_{epoch+1}'\n",
        "    name = os.path.join(config['outputs']['path'], model_name, file)\n",
        "    \n",
        "    # Make directory if not exists\n",
        "    if not os.path.exists(os.path.join(os.path.join(config['outputs']['path'], model_name))):\n",
        "        os.makedirs(os.path.join(os.path.join(config['outputs']['path'], model_name)))\n",
        "    \n",
        "    # Save model\n",
        "    torch.save(model.state_dict(), f'{name}.pt')\n",
        "    return file"
      ]
    },
    {
      "cell_type": "code",
      "execution_count": 371,
      "metadata": {},
      "outputs": [],
      "source": [
        "def write_csv(val_subjects, test_subjects, model_name, cv_fold, val_accuracy, val_loss, test_accuracy, epoch, total_training, train_size, val_size, test_size, timestamp, file_name):\n",
        "    \"\"\"Function for writing csv file with results from each cross validation split\"\"\"\n",
        "    # Model name, with path\n",
        "    file = f'{model_name}_{timestamp}_CV_splits.csv'\n",
        "    \n",
        "    # Make directory if not exists\n",
        "    if not os.path.exists(os.path.join(os.path.join(config['outputs']['path'], model_name))):\n",
        "        os.makedirs(os.path.join(os.path.join(config['outputs']['path'], model_name)))\n",
        "    \n",
        "    if not os.path.exists(os.path.join(os.path.join(config['outputs']['path'], model_name, file))):\n",
        "        write_type = 'w'\n",
        "    else:\n",
        "        write_type = 'a'\n",
        "\n",
        "    with open(os.path.join(os.path.join(config['outputs']['path'], model_name, file)), write_type, newline='') as file:\n",
        "        if write_type == 'w':\n",
        "            writer = csv.writer(file)\n",
        "            writer.writerow([\"cv_fold\", \"validation_subjects\", \"test_subjects\", \"val_accuracy\", \"val_loss\", \"test_accuracy\", \"epoch\", \"timestamp\", \"total_training_time\", \"train_size\", \"val_size\", \"test_size\", \"file_name\"])\n",
        "            writer.writerow([cv_fold, val_subjects, test_subjects, val_accuracy, val_loss, test_accuracy, epoch, timestamp, total_training,train_size, val_size, test_size, file_name])\n",
        "        else:\n",
        "            writer = csv.writer(file)\n",
        "            writer.writerow([cv_fold, val_subjects, test_subjects, val_accuracy, val_loss, test_accuracy, epoch, timestamp, total_training,train_size, val_size, test_size, file_name])"
      ]
    },
    {
      "cell_type": "code",
      "execution_count": 372,
      "metadata": {},
      "outputs": [],
      "source": [
        "class EarlyStopper:\n",
        "    \"\"\"Early Stopping Class. Copied from https://stackoverflow.com/questions/71998978/early-stopping-in-pytorch\"\"\"\n",
        "    def __init__(self, patience=1, min_delta=0):\n",
        "        self.patience = patience\n",
        "        self.min_delta = min_delta\n",
        "        self.counter = 0\n",
        "        self.min_validation_loss = float('inf')\n",
        "\n",
        "    def early_stop(self, validation_loss):\n",
        "        if validation_loss < self.min_validation_loss:\n",
        "            self.min_validation_loss = validation_loss\n",
        "            if self.counter != 0:\n",
        "                print('Early Stopping Counter Reset')\n",
        "            self.counter = 0\n",
        "        elif validation_loss > (self.min_validation_loss + self.min_delta):\n",
        "            self.counter += 1\n",
        "            print(f'Early Stopping Counter {self.counter} of {self.patience}')\n",
        "            if self.counter >= self.patience:\n",
        "                return True\n",
        "        return False"
      ]
    },
    {
      "cell_type": "code",
      "execution_count": 373,
      "metadata": {
        "id": "t-ndlrjVQYyl"
      },
      "outputs": [],
      "source": [
        "def train(model, train_dataloader, validation_dataloader, test_dataloader, optimizer, loss_fn, epochs, device, scheduler, early_stopping, model_name, val_subjects, test_subjects, cv_fold, train_size, val_size, test_size, timestamp):\n",
        "    \"\"\"Model training method\"\"\"\n",
        "    \n",
        "    # History\n",
        "    history = dict(train_loss=[],\n",
        "                   train_acc=[],\n",
        "                   val_loss=[],\n",
        "                   val_acc=[])\n",
        "\n",
        "    # Save start of training\n",
        "    total_training_start = time.time()\n",
        "\n",
        "    # Loop through epochs\n",
        "    for epoch in range(epochs):\n",
        "        print(f'\\nEpoch {epoch+1} of {epochs} & CV Fold {cv_fold} of 5 started...')\n",
        "        \n",
        "        # Get start training step time\n",
        "        start_train = time.time()\n",
        "        \n",
        "        # Perform forward + backwards pass\n",
        "        model.train()\n",
        "        train_loss, train_acc = train_step(model, train_dataloader, loss_fn, optimizer, device)\n",
        "\n",
        "        # Compute validation loss and accuracy\n",
        "        model.eval()\n",
        "        val_loss, val_acc = validation(model, validation_dataloader, loss_fn, device)\n",
        "        \n",
        "        # Calculate total time spent\n",
        "        end_train = time.time()\n",
        "        total_m, total_s = divmod(end_train - start_train, 60)\n",
        "        \n",
        "        # lr Scheduler step\n",
        "        if scheduler != None:\n",
        "            scheduler.step(val_loss)\n",
        "        \n",
        "        # Print epoch results\n",
        "        print(f\"Epoch {epoch+1} of {epochs} & CV {cv_fold} of 5 ({round(total_m)}:{round(total_s)}) - Train loss: {train_loss:.5f} - Train acc: {train_acc:.5f} - Val loss: {val_loss:.5f} - Val acc: {val_acc:.5f}\")\n",
        "        \n",
        "        \n",
        "        #### Intermediate best models not saved - only last version #### \n",
        "        if val_loss < min(history['val_loss'], default=1e10):\n",
        "            print(f\"Saving model with new best val_loss: {val_loss:.5f}\")\n",
        "            \n",
        "            # Save model\n",
        "            save_model(model, model_name, epoch)\n",
        "        \n",
        "        # Save train and val loss/acc\n",
        "        history['train_loss'].append(train_loss)\n",
        "        history['train_acc'].append(train_acc)\n",
        "        history['val_loss'].append(val_loss)\n",
        "        history['val_acc'].append(val_acc)\n",
        "\n",
        "        # Visualize every 5th epoch\n",
        "        if (epoch + 1) % 5 == 0: \n",
        "            visualize_training(history, epochs)\n",
        "            \n",
        "        if early_stopping.early_stop(val_loss):             \n",
        "            print(f\"Epoch {epoch+1} of {epochs} - Early stopping Applied\")\n",
        "            print(f'Computing Accuracy for Test')\n",
        "            test_output = test(model, test_dataloader, device)\n",
        "            print(f'Test Accuracy: {round(test_output[0], 4)}')\n",
        "            print('Saving final model, with loss: ', val_loss)\n",
        "            file_name = save_model(model=model, model_name=model_name, cv_fold=cv_fold, epoch=epoch)\n",
        "            total_training_end = time.time()\n",
        "            minutes, seconds = divmod(total_training_end-total_training_start, 60)\n",
        "            write_csv(val_subjects=val_subjects, \n",
        "                       test_subjects=test_subjects, \n",
        "                       model_name=model_name, \n",
        "                       cv_fold=cv_fold, \n",
        "                       val_accuracy=val_acc, \n",
        "                       test_accuracy=test_output[0], \n",
        "                       val_loss=val_loss, \n",
        "                       epoch=epoch+1,\n",
        "                       total_training = f'{round(minutes)}:{round(seconds)}',\n",
        "                       train_size=train_size,\n",
        "                       val_size=val_size,\n",
        "                       test_size=test_size,\n",
        "                       timestamp=timestamp,\n",
        "                       file_name=file_name)\n",
        "            \n",
        "            visualize_training(history, epoch+1)\n",
        "            break\n",
        "    \n",
        "    total_training_end = time.time()\n",
        "    minutes, seconds = divmod(total_training_end-total_training_start, 60)\n",
        "    \n",
        "    print(f'Total training time: {round(minutes)}:{round(seconds)}')\n",
        "    return history"
      ]
    },
    {
      "cell_type": "markdown",
      "metadata": {},
      "source": [
        "# `Model`"
      ]
    },
    {
      "cell_type": "code",
      "execution_count": 374,
      "metadata": {},
      "outputs": [],
      "source": [
        "# Convolution block\n",
        "class ConvBlock(nn.Module):\n",
        "    def __init__(self, in_channesl, out_channls, kernel_size = 3, stride=1, pool_kernel = 2, dropout_rate = .2, padding=1, skip_last_dropout=False):\n",
        "        super(ConvBlock, self).__init__()\n",
        "        self.main = nn.Sequential(\n",
        "            nn.Conv2d(in_channels=in_channesl,\n",
        "                              out_channels=out_channls,\n",
        "                              kernel_size=kernel_size,\n",
        "                              stride=stride,\n",
        "                              padding=padding),\n",
        "            nn.SELU(True),\n",
        "            nn.BatchNorm2d(out_channls),\n",
        "            nn.Dropout(dropout_rate),\n",
        "            nn.Conv2d(in_channels=out_channls,\n",
        "                              out_channels=out_channls,\n",
        "                              kernel_size=kernel_size,\n",
        "                              stride=stride,\n",
        "                              padding=padding),\n",
        "            nn.SELU(True),\n",
        "            nn.BatchNorm2d(out_channls),\n",
        "            nn.MaxPool2d(kernel_size = pool_kernel),\n",
        "            nn.Dropout(dropout_rate) if not skip_last_dropout else nn.Identity())\n",
        "\n",
        "    def forward(self, x):\n",
        "        return self.main(x)\n",
        "\n",
        "# Fully Connected Dense Block\n",
        "class Dense(nn.Module):\n",
        "    def __init__(self, in_features, out_features, dropout_rate):\n",
        "        super(Dense, self).__init__()\n",
        "        \n",
        "        self.main = nn.Sequential(\n",
        "            nn.Linear(in_features=in_features, out_features=out_features),\n",
        "            nn.ReLU(True),\n",
        "            nn.BatchNorm1d(out_features),\n",
        "            nn.Dropout(dropout_rate),\n",
        "        )\n",
        "    \n",
        "    def forward(self, x):\n",
        "        return self.main(x)\n",
        "    "
      ]
    },
    {
      "cell_type": "code",
      "execution_count": 375,
      "metadata": {},
      "outputs": [],
      "source": [
        "# Smallest version\n",
        "class VGG_Small(torch.nn.Module):\n",
        "    def __init__(self, filters = 32, num_classes = 10, kernel_size = 3,  stride = 1, in_channels = 3, pool_kernel_size = 2, padding=1):\n",
        "        super(VGG_Small, self).__init__()\n",
        "        # First Convolution Block\n",
        "        self.main = nn.Sequential(\n",
        "            ConvBlock(in_channesl=in_channels, out_channls=filters, kernel_size=kernel_size, stride=stride, pool_kernel=pool_kernel_size, dropout_rate=.25),\n",
        "            ConvBlock(in_channesl=filters, out_channls=filters*2, kernel_size=kernel_size, stride=stride, pool_kernel=pool_kernel_size, dropout_rate=.3),\n",
        "            ConvBlock(in_channesl=filters*2, out_channls=filters*2, kernel_size=kernel_size, stride=stride, pool_kernel=pool_kernel_size, dropout_rate=.3),\n",
        "            nn.Flatten(),   \n",
        "            Dense(in_features=3072, out_features=128, dropout_rate=.3), # img size L = 52224 # Old small 12288, 3 channels medium sized input images 6144 - Img size L with stride 2 = 26112\n",
        "            nn.Linear(in_features=128, out_features=num_classes)) # img size L = 52224 # Old small 12288\n",
        "\n",
        "    def forward(self, x):\n",
        "        # Pass the data through the convolutional blocks\n",
        "        x = self.main(x)\n",
        "        return x"
      ]
    },
    {
      "cell_type": "markdown",
      "metadata": {},
      "source": [
        "# `Data Augmentations`"
      ]
    },
    {
      "cell_type": "code",
      "execution_count": 376,
      "metadata": {},
      "outputs": [],
      "source": [
        "img_size_L = (168, 224)\n",
        "img_size_M = (93, 124)\n",
        "img_size_S = (48, 64)\n",
        "\n",
        "# IMG Transformations\n",
        "augmentations = {\n",
        "    'train': v2.Compose([\n",
        "    v2.RandomRotation(degrees=30),\n",
        "    v2.ColorJitter(brightness=0.25, contrast=0.25, saturation=0.25, hue=0.25),\n",
        "    v2.RandomResizedCrop(img_size_S, antialias=True, scale=(0.9, 1)),\n",
        "    v2.RandomHorizontalFlip(p=0.5),\n",
        "    v2.ToDtype(torch.float32, scale=True)]),\n",
        "    'val+test': v2.Compose([\n",
        "    T.Resize(img_size_S, antialias=True),\n",
        "    v2.ToDtype(torch.float32, scale=True)])}\n",
        "\n",
        "# Target Transformations (Removing the c from the target)\n",
        "target_transform = T.Lambda(lambda y: torch.tensor(int(y.replace('c', ''))))"
      ]
    },
    {
      "cell_type": "markdown",
      "metadata": {},
      "source": [
        "# `Training`\n"
      ]
    },
    {
      "cell_type": "code",
      "execution_count": 364,
      "metadata": {},
      "outputs": [],
      "source": [
        "# General Hyperparameters\n",
        "MODEL_NAME = 'TinyVgg_500k'\n",
        "batch_size = 32\n",
        "epochs = 50\n",
        "seed = 42\n",
        "history = dict()\n",
        "TIMESTAMP = dt.datetime.now().strftime('%Y%m%d_%H%M%S')"
      ]
    },
    {
      "cell_type": "code",
      "execution_count": 367,
      "metadata": {},
      "outputs": [
        {
          "name": "stdout",
          "output_type": "stream",
          "text": [
            "Starting Training with CV Fold 1 of 5\n",
            "\n",
            "Epoch 1 of 50 & CV Fold 1 of 5 started...\n",
            "Epoch 1 of 50 - Early stopping Applied\n",
            "Computing Accuracy for Test\n",
            "Test Accuracy: 0.1068\n"
          ]
        },
        {
          "data": {
            "image/png": "[encoded data removed]",
            "text/plain": [
              "<Figure size 1200x500 with 2 Axes>"
            ]
          },
          "metadata": {},
          "output_type": "display_data"
        },
        {
          "name": "stdout",
          "output_type": "stream",
          "text": [
            "Total training time: 0:6\n",
            "Starting Training with CV Fold 2 of 5\n",
            "\n",
            "Epoch 1 of 50 & CV Fold 2 of 5 started...\n",
            "Epoch 1 of 50 - Early stopping Applied\n",
            "Computing Accuracy for Test\n",
            "Test Accuracy: 0.1042\n"
          ]
        },
        {
          "data": {
            "image/png": "[encoded data removed]",
            "text/plain": [
              "<Figure size 1200x500 with 2 Axes>"
            ]
          },
          "metadata": {},
          "output_type": "display_data"
        },
        {
          "name": "stdout",
          "output_type": "stream",
          "text": [
            "Total training time: 0:5\n",
            "Starting Training with CV Fold 3 of 5\n",
            "\n",
            "Epoch 1 of 50 & CV Fold 3 of 5 started...\n",
            "Epoch 1 of 50 - Early stopping Applied\n",
            "Computing Accuracy for Test\n",
            "Test Accuracy: 0.0866\n"
          ]
        },
        {
          "data": {
            "image/png": "[encoded data removed]",
            "text/plain": [
              "<Figure size 1200x500 with 2 Axes>"
            ]
          },
          "metadata": {},
          "output_type": "display_data"
        },
        {
          "name": "stdout",
          "output_type": "stream",
          "text": [
            "Total training time: 0:5\n",
            "Starting Training with CV Fold 4 of 5\n",
            "\n",
            "Epoch 1 of 50 & CV Fold 4 of 5 started...\n",
            "Epoch 1 of 50 - Early stopping Applied\n",
            "Computing Accuracy for Test\n",
            "Test Accuracy: 0.101\n"
          ]
        },
        {
          "data": {
            "image/png": "[encoded data removed]",
            "text/plain": [
              "<Figure size 1200x500 with 2 Axes>"
            ]
          },
          "metadata": {},
          "output_type": "display_data"
        },
        {
          "name": "stdout",
          "output_type": "stream",
          "text": [
            "Total training time: 0:4\n",
            "Starting Training with CV Fold 5 of 5\n",
            "\n",
            "Epoch 1 of 50 & CV Fold 5 of 5 started...\n",
            "Epoch 1 of 50 - Early stopping Applied\n",
            "Computing Accuracy for Test\n",
            "Test Accuracy: 0.0875\n"
          ]
        },
        {
          "data": {
            "image/png": "[encoded data removed]",
            "text/plain": [
              "<Figure size 1200x500 with 2 Axes>"
            ]
          },
          "metadata": {},
          "output_type": "display_data"
        },
        {
          "name": "stdout",
          "output_type": "stream",
          "text": [
            "Total training time: 0:3\n"
          ]
        }
      ],
      "source": [
        "# Loop Through Splits\n",
        "for x in split.cv_round.unique():\n",
        "    # Print CV Fold\n",
        "    print(f'Starting Training with CV Fold {x} of 5')\n",
        "    \n",
        "    # Extracting Split Data\n",
        "    split_data = split[split.cv_round == x]\n",
        "    \n",
        "    # Extracting Val and Test Subjects\n",
        "    val_subjects = split_data[split_data.split == 'val'].subject.to_list()\n",
        "    test_subjects = split_data[split_data.split == 'test'].subject.to_list()\n",
        "    \n",
        "    # Generating Datasets\n",
        "    train_data = StateFarmDataset(config, split='train', transform=augmentations['train'], target_transform=target_transform, validation_subjects = val_subjects + test_subjects)   \n",
        "    val_data = StateFarmDataset(config, split='val',  transform=augmentations['val+test'], target_transform=target_transform, validation_subjects = val_subjects)   \n",
        "    test_data = StateFarmDataset(config, split='val',  transform=augmentations['val+test'], target_transform=target_transform, validation_subjects = test_subjects)   \n",
        "    \n",
        "    \n",
        "    # Creating new data loaders\n",
        "    train_dataloader = DataLoader(train_data, batch_size=batch_size, shuffle=True)\n",
        "    val_dataloader = DataLoader(val_data, batch_size=batch_size, shuffle=True)\n",
        "    test_dataloader = DataLoader(test_data, batch_size=batch_size, shuffle=True)\n",
        "    \n",
        "    # Setting up model\n",
        "    model = VGG_Small(num_classes = 10, in_channels=3)\n",
        "    model = model.to(device)\n",
        "    \n",
        "    \n",
        "    # Setup loss function and optimizer\n",
        "    loss_fn = nn.CrossEntropyLoss()\n",
        "    optimizer = torch.optim.AdamW(model.parameters(), lr=0.001)\n",
        "\n",
        "    # Setup scheduler\n",
        "    scheduler = torch.optim.lr_scheduler.ReduceLROnPlateau(optimizer, \n",
        "                                                           'min',\n",
        "                                                           factor=.1,\n",
        "                                                           patience=5,\n",
        "                                                           min_lr=1e-7,\n",
        "                                                           verbose=True)\n",
        "    \n",
        "    early_stopping = EarlyStopper(patience=5, min_delta=.03)\n",
        "\n",
        "    # results\n",
        "    results = train(model=model,\n",
        "                    train_dataloader=train_dataloader,\n",
        "                    validation_dataloader=val_dataloader,\n",
        "                    test_dataloader=test_dataloader,\n",
        "                    optimizer=optimizer,\n",
        "                    loss_fn=loss_fn,\n",
        "                    epochs=epochs,\n",
        "                    device=device,\n",
        "                    scheduler=scheduler,\n",
        "                    early_stopping=early_stopping,\n",
        "                    model_name=MODEL_NAME,\n",
        "                    val_subjects=val_subjects,\n",
        "                    test_subjects=test_subjects,\n",
        "                    cv_fold=x,\n",
        "                    train_size=len(train_data),\n",
        "                    val_size=len(val_data),\n",
        "                    test_size=len(test_data),\n",
        "                    timestamp=TIMESTAMP)\n",
        "    \n",
        "    # Save results\n",
        "    history[f'cv_fold_{x}'] = results"
      ]
    },
    {
      "cell_type": "markdown",
      "metadata": {},
      "source": [
        "### Testing on Test Images"
      ]
    },
    {
      "cell_type": "code",
      "execution_count": null,
      "metadata": {},
      "outputs": [],
      "source": [
        "test_predictions = test(model=model,\n",
        "                        dataloader=test_dataloader,\n",
        "                        device=device)"
      ]
    },
    {
      "cell_type": "code",
      "execution_count": null,
      "metadata": {},
      "outputs": [],
      "source": [
        "best_model = EfficientNet(width_mult, depth_mult, dropout_rate, num_classes = 10).to(device)\n",
        "best_model.load_state_dict(torch.load('/Users/rasmuskrebs/Documents/School/semester_3/advanced_ml/aml_itu/outputs/EfficientNet_b0_AdamW/EfficientNet_b0_AdamW_20231204_093524_epoch_5.pt'))"
      ]
    },
    {
      "cell_type": "code",
      "execution_count": null,
      "metadata": {},
      "outputs": [],
      "source": [
        "best_predictions = test(model=best_model,\n",
        "                        dataloader=test_dataloader,\n",
        "                        device=device)"
      ]
    },
    {
      "cell_type": "code",
      "execution_count": null,
      "metadata": {},
      "outputs": [],
      "source": []
    }
  ],
  "metadata": {
    "accelerator": "GPU",
    "colab": {
      "gpuType": "T4",
      "include_colab_link": true,
      "provenance": []
    },
    "kernelspec": {
      "display_name": "Python 3",
      "name": "python3"
    },
    "language_info": {
      "codemirror_mode": {
        "name": "ipython",
        "version": 3
      },
      "file_extension": ".py",
      "mimetype": "text/x-python",
      "name": "python",
      "nbconvert_exporter": "python",
      "pygments_lexer": "ipython3",
      "version": "3.11.3"
    }
  },
  "nbformat": 4,
  "nbformat_minor": 0
}
