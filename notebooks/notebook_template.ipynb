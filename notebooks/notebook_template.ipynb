{
 "cells": [
  {
   "cell_type": "markdown",
   "metadata": {},
   "source": [
    "# `Setup`"
   ]
  },
  {
   "cell_type": "code",
   "execution_count": 1,
   "metadata": {},
   "outputs": [
    {
     "name": "stdout",
     "output_type": "stream",
     "text": [
      "From https://github.com/RasKrebs/aml_itu\n",
      " * branch            main       -> FETCH_HEAD\n",
      "Already up to date.\n",
      "/Users/rasmuskrebs/Documents/School/semester_3/advanced_ml/aml_itu\n"
     ]
    }
   ],
   "source": [
    "import pandas as pd\n",
    "import numpy as np\n",
    "import os\n",
    "\n",
    "try:\n",
    "    # Mounting Colab Drive if possible\n",
    "    from google.colab import drive\n",
    "    drive.mount('/content/drive')\n",
    "    \n",
    "    # Cloning repo for colab\n",
    "    !git clone https://github.com/RasKrebs/aml_itu\n",
    "    %cd aml_itu/\n",
    "    os.environ[\"COLAB\"] = \"True\"\n",
    "\n",
    "except:\n",
    "    # Changing directory into aml_itu\n",
    "    if os.getcwd().split('/')[-1] != 'aml_itu': os.chdir(os.path.abspath('.').split('aml_itu/')[0]+'aml_itu')\n",
    "    !git pull origin main\n",
    "    os.environ[\"COLAB\"] = \"False\"\n",
    "\n",
    "# Utils Import\n",
    "from utils.helpers import * \n",
    "from utils.StatefarmPytorchDataset import StateFarmDataset\n",
    "\n",
    "# Printing current working directory\n",
    "print(os.getcwd())"
   ]
  },
  {
   "cell_type": "markdown",
   "metadata": {},
   "source": [
    "### `Config`"
   ]
  },
  {
   "cell_type": "code",
   "execution_count": null,
   "metadata": {},
   "outputs": [],
   "source": []
  },
  {
   "cell_type": "code",
   "execution_count": 2,
   "metadata": {},
   "outputs": [
    {
     "data": {
      "text/plain": [
       "{'dataset': {'name': 'state-farm-distracted-driver-detection',\n",
       "  'colab_path': '/content/drive/MyDrive/aml-distracted-drivers-project',\n",
       "  'data': '../state-farm-distracted-driver-detection/driver_imgs_list.csv',\n",
       "  'images': {'train': '../state-farm-distracted-driver-detection/imgs/train',\n",
       "   'test': '../state-farm-distracted-driver-detection/imgs/test'},\n",
       "  'class_mapping': {'c0': 'safe driving',\n",
       "   'c1': 'texting - right',\n",
       "   'c2': 'talking on the phone - right',\n",
       "   'c3': 'texting - left',\n",
       "   'c4': 'talking on the phone - left',\n",
       "   'c5': 'operating the radio',\n",
       "   'c6': 'drinking',\n",
       "   'c7': 'reaching behind',\n",
       "   'c8': 'hair and makeup',\n",
       "   'c9': 'talking to passenger'}},\n",
       " 'outputs': {'path': './outputs'},\n",
       " 'modeling_params': {'batch_size': 32, 'epochs': 100}}"
      ]
     },
     "execution_count": 2,
     "metadata": {},
     "output_type": "execute_result"
    }
   ],
   "source": [
    "# Loading the config file (if content is in workin directory must mean colab is being used)\n",
    "config = load_config(eval(os.environ[\"COLAB\"]))\n",
    "    \n",
    "    \n",
    "# Training Images\n",
    "train_img = config['dataset']['images']['train']\n",
    "\n",
    "# Outputting config    \n",
    "config"
   ]
  },
  {
   "cell_type": "code",
   "execution_count": 7,
   "metadata": {},
   "outputs": [],
   "source": [
    "# Creating the dataset\n",
    "train_data = StateFarmDataset(config, split='train')\n",
    "test_data = StateFarmDataset(config, split='test')"
   ]
  },
  {
   "cell_type": "markdown",
   "metadata": {},
   "source": [
    "## `Main`"
   ]
  },
  {
   "cell_type": "code",
   "execution_count": null,
   "metadata": {},
   "outputs": [],
   "source": []
  }
 ],
 "metadata": {
  "kernelspec": {
   "display_name": "base",
   "language": "python",
   "name": "python3"
  },
  "language_info": {
   "codemirror_mode": {
    "name": "ipython",
    "version": 3
   },
   "file_extension": ".py",
   "mimetype": "text/x-python",
   "name": "python",
   "nbconvert_exporter": "python",
   "pygments_lexer": "ipython3",
   "version": "3.11.3"
  }
 },
 "nbformat": 4,
 "nbformat_minor": 2
}
