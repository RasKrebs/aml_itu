{
 "cells": [
  {
   "cell_type": "markdown",
   "metadata": {},
   "source": [
    "# `Setup`"
   ]
  },
  {
   "cell_type": "code",
   "execution_count": 2,
   "metadata": {},
   "outputs": [
    {
     "name": "stdout",
     "output_type": "stream",
     "text": [
      "/Users/rasmuskrebs/Documents/School/semester_3/advanced_ml/aml_itu\n"
     ]
    }
   ],
   "source": [
    "# Library Import\n",
    "import pandas as pd\n",
    "import numpy as np\n",
    "import os\n",
    "if os.getcwd().split('/')[-1] != 'aml_itu': os.chdir(os.path.abspath('.').split('aml_itu/')[0]+'aml_itu')\n",
    "from utils.helpers import * # Import all helper functions\n",
    "from utils.StatefarmPytorchDataset import StateFarmDataset # Import Pytorch dataset class\n",
    "\n",
    "# Printing current working directory\n",
    "print(os.getcwd())"
   ]
  },
  {
   "cell_type": "markdown",
   "metadata": {},
   "source": [
    "### `Config`"
   ]
  },
  {
   "cell_type": "code",
   "execution_count": 3,
   "metadata": {},
   "outputs": [
    {
     "data": {
      "text/plain": [
       "{'dataset': {'name': 'state-farm-distracted-driver-detection',\n",
       "  'data': '../state-farm-distracted-driver-detection/driver_imgs_list.csv',\n",
       "  'images': {'train': '../state-farm-distracted-driver-detection/imgs/train',\n",
       "   'test': '../state-farm-distracted-driver-detection/imgs/test'},\n",
       "  'class_mapping': {'c0': 'safe driving',\n",
       "   'c1': 'texting - right',\n",
       "   'c2': 'talking on the phone - right',\n",
       "   'c3': 'texting - left',\n",
       "   'c4': 'talking on the phone - left',\n",
       "   'c5': 'operating the radio',\n",
       "   'c6': 'drinking',\n",
       "   'c7': 'reaching behind',\n",
       "   'c8': 'hair and makeup',\n",
       "   'c9': 'talking to passenger'}},\n",
       " 'outputs': {'path': './outputs'}}"
      ]
     },
     "execution_count": 3,
     "metadata": {},
     "output_type": "execute_result"
    }
   ],
   "source": [
    "# Loading the config file\n",
    "config = load_config()\n",
    "    \n",
    "    \n",
    "# Training Images\n",
    "train_img = config['dataset']['images']['train']\n",
    "\n",
    "# Outputting config    \n",
    "config"
   ]
  },
  {
   "cell_type": "code",
   "execution_count": 4,
   "metadata": {},
   "outputs": [],
   "source": [
    "# Loading the data\n",
    "df = pd.read_csv(config['dataset']['data'])"
   ]
  },
  {
   "cell_type": "code",
   "execution_count": 5,
   "metadata": {},
   "outputs": [
    {
     "data": {
      "text/plain": [
       "{'c0': 'safe driving',\n",
       " 'c1': 'texting - right',\n",
       " 'c2': 'talking on the phone - right',\n",
       " 'c3': 'texting - left',\n",
       " 'c4': 'talking on the phone - left',\n",
       " 'c5': 'operating the radio',\n",
       " 'c6': 'drinking',\n",
       " 'c7': 'reaching behind',\n",
       " 'c8': 'hair and makeup',\n",
       " 'c9': 'talking to passenger'}"
      ]
     },
     "execution_count": 5,
     "metadata": {},
     "output_type": "execute_result"
    }
   ],
   "source": [
    "config['dataset']['class_mapping']"
   ]
  },
  {
   "cell_type": "code",
   "execution_count": 6,
   "metadata": {},
   "outputs": [],
   "source": [
    "df['target'] = df['classname'].map(config['dataset']['class_mapping'])"
   ]
  },
  {
   "cell_type": "markdown",
   "metadata": {},
   "source": [
    "## `Main`"
   ]
  },
  {
   "cell_type": "code",
   "execution_count": null,
   "metadata": {},
   "outputs": [],
   "source": []
  }
 ],
 "metadata": {
  "kernelspec": {
   "display_name": "base",
   "language": "python",
   "name": "python3"
  },
  "language_info": {
   "codemirror_mode": {
    "name": "ipython",
    "version": 3
   },
   "file_extension": ".py",
   "mimetype": "text/x-python",
   "name": "python",
   "nbconvert_exporter": "python",
   "pygments_lexer": "ipython3",
   "version": "3.11.3"
  }
 },
 "nbformat": 4,
 "nbformat_minor": 2
}
