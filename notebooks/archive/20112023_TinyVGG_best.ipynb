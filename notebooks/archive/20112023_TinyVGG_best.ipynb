{
  "cells": [
    {
      "cell_type": "markdown",
      "metadata": {
        "id": "UmGPfIwRKzFV"
      },
      "source": [
        "# `Setup`"
      ]
    },
    {
      "cell_type": "code",
      "execution_count": 31,
      "metadata": {
        "colab": {
          "base_uri": "https://localhost:8080/"
        },
        "id": "ceRf-vSlKzFW",
        "outputId": "f0388aa0-7ed4-4198-fab2-626246eae361"
      },
      "outputs": [
        {
          "name": "stdout",
          "output_type": "stream",
          "text": [
            "From https://github.com/RasKrebs/aml_itu\n",
            " * branch            main       -> FETCH_HEAD\n",
            "Already up to date.\n",
            "/Users/rasmuskrebs/Documents/School/semester_3/advanced_ml/aml_itu\n",
            "MPS device found.\n"
          ]
        }
      ],
      "source": [
        "import pandas as pd\n",
        "import numpy as np\n",
        "import matplotlib.pyplot as plt\n",
        "import seaborn as sns\n",
        "import os\n",
        "import time\n",
        "import copy\n",
        "import datetime as dt\n",
        "from math import ceil\n",
        "try:\n",
        "    # Mounting Colab Drive if possible\n",
        "    from google.colab import drive\n",
        "    drive.mount('/content/drive')\n",
        "\n",
        "    # Cloning repo for colab\n",
        "    if 'aml_itu' in os.getcwd():\n",
        "        %cd aml_itu/\n",
        "        !git pull https://github.com/RasKrebs/aml_itu\n",
        "    else:\n",
        "        !git clone https://github.com/RasKrebs/aml_itu\n",
        "        %cd aml_itu/\n",
        "    os.environ[\"COLAB\"] = \"True\"\n",
        "\n",
        "except:\n",
        "    # Changing directory into aml_itu\n",
        "    if os.getcwd().split('/')[-1] != 'aml_itu': os.chdir(os.path.abspath('.').split('aml_itu/')[0]+'aml_itu')\n",
        "    !git pull origin main --ff-only\n",
        "    os.environ[\"COLAB\"] = \"False\"\n",
        "\n",
        "# Utils Import\n",
        "from utils.helpers import *\n",
        "from utils.StatefarmPytorchDataset import StateFarmDataset\n",
        "\n",
        "\n",
        "# Torch\n",
        "import torch\n",
        "from torch.autograd import Variable\n",
        "from torch import nn\n",
        "import torchvision\n",
        "import torchvision.transforms as T\n",
        "from torchvision.transforms import v2\n",
        "import matplotlib.pyplot as plt\n",
        "from torch.utils.data import DataLoader\n",
        "import math\n",
        "\n",
        "\n",
        "# Install torchinfo, import if it's available\n",
        "try:\n",
        "  import torchinfo\n",
        "except:\n",
        "  !pip install torchinfo\n",
        "  import torchinfo\n",
        "\n",
        "from torchinfo import summary\n",
        "\n",
        "\n",
        "# Printing current working directory\n",
        "print(os.getcwd())\n",
        "\n",
        "# Setting up device\n",
        "if torch.cuda.is_available():\n",
        "    device = torch.device(\"cuda\")\n",
        "    print (f\"GPU is available\")\n",
        "elif torch.backends.mps.is_available():\n",
        "    device = torch.device(\"mps\")\n",
        "    print('MPS device found.')\n",
        "else:\n",
        "    print (\"No GPU available, using CPU instead\")"
      ]
    },
    {
      "cell_type": "markdown",
      "metadata": {
        "id": "qujmd-H5KzFX"
      },
      "source": [
        "### `Config`"
      ]
    },
    {
      "cell_type": "code",
      "execution_count": 2,
      "metadata": {
        "colab": {
          "base_uri": "https://localhost:8080/"
        },
        "id": "fR4A88qzKzFX",
        "outputId": "bf171fda-ed9b-42f4-a24a-2a2f83150932"
      },
      "outputs": [
        {
          "data": {
            "text/plain": [
              "{'dataset': {'name': 'state-farm-distracted-driver-detection',\n",
              "  'colab_path': '/content/drive/MyDrive/aml-distracted-drivers-project',\n",
              "  'data': '../state-farm-distracted-driver-detection/driver_imgs_list.csv',\n",
              "  'images': {'train': '../state-farm-distracted-driver-detection/imgs/train',\n",
              "   'test': '../state-farm-distracted-driver-detection/imgs/test'},\n",
              "  'class_mapping': {'c0': 'safe driving',\n",
              "   'c1': 'texting - right',\n",
              "   'c2': 'talking on the phone - right',\n",
              "   'c3': 'texting - left',\n",
              "   'c4': 'talking on the phone - left',\n",
              "   'c5': 'operating the radio',\n",
              "   'c6': 'drinking',\n",
              "   'c7': 'reaching behind',\n",
              "   'c8': 'hair and makeup',\n",
              "   'c9': 'talking to passenger'}},\n",
              " 'outputs': {'path': './outputs'},\n",
              " 'modeling_params': {'batch_size': 32, 'epochs': 100}}"
            ]
          },
          "execution_count": 2,
          "metadata": {},
          "output_type": "execute_result"
        }
      ],
      "source": [
        "MODEL_NAME = 'TinyVGG_best'\n",
        "\n",
        "# Loading the config file (if content is in workin directory must mean colab is being used)\n",
        "config = load_config(eval(os.environ[\"COLAB\"]))\n",
        "\n",
        "\n",
        "# Training Images\n",
        "train_img = config['dataset']['images']['train']\n",
        "\n",
        "# Outputting config\n",
        "config"
      ]
    },
    {
      "cell_type": "markdown",
      "metadata": {
        "id": "tDaRwhJjKzFY"
      },
      "source": [
        "## `TinyVGG`"
      ]
    },
    {
      "cell_type": "code",
      "execution_count": 3,
      "metadata": {
        "id": "9T9mX5BKKzFY"
      },
      "outputs": [],
      "source": [
        "img_size_L = (168, 224)\n",
        "# img_size_S = (93, 124)\n",
        "\n",
        "# IMG Transformations\n",
        "augmentations = {\n",
        "    'train': v2.Compose([\n",
        "    v2.RandomRotation(degrees=30),\n",
        "    v2.RandomResizedCrop(img_size_L, antialias=True, scale=(0.9, 1)),\n",
        "    v2.RandomHorizontalFlip(p=0.5),\n",
        "    v2.ToDtype(torch.float32, scale=True)]),\n",
        "    'val+test': v2.Compose([\n",
        "    T.Resize(img_size_L, antialias=True),\n",
        "    v2.ToDtype(torch.float32, scale=True)])}\n",
        "\n",
        "# Target Transformations (Removing the c from the target)\n",
        "target_transform = T.Lambda(lambda y: torch.tensor(int(y.replace('c', ''))))"
      ]
    },
    {
      "cell_type": "code",
      "execution_count": 4,
      "metadata": {
        "id": "QXckhcO8KzFX"
      },
      "outputs": [
        {
          "name": "stdout",
          "output_type": "stream",
          "text": [
            "Lenght of train data: 15646\n",
            "Lenght of val data: 3345\n",
            "Lenght of val data: 3433\n"
          ]
        }
      ],
      "source": [
        "# Creating the dataset\n",
        "train_data = StateFarmDataset(config, \n",
        "                              transform=augmentations['train'], \n",
        "                              split='train', \n",
        "                              target_transform=target_transform)\n",
        "\n",
        "print(f'Lenght of train data: {len(train_data)}')\n",
        "\n",
        "# Creating the dataset\n",
        "val_data = StateFarmDataset(config, \n",
        "                            transform=augmentations['val+test'], \n",
        "                            split='val', \n",
        "                            target_transform=target_transform)\n",
        "\n",
        "print(f'Lenght of val data: {len(val_data)}')\n",
        "\n",
        "test_data = StateFarmDataset(config, \n",
        "                            split='test', \n",
        "                            transform=augmentations['val+test'], \n",
        "                            target_transform=target_transform)\n",
        "\n",
        "print(f'Lenght of val data: {len(test_data)}')"
      ]
    },
    {
      "cell_type": "markdown",
      "metadata": {
        "id": "FOlK-farQYyk"
      },
      "source": [
        "#### `Model`"
      ]
    },
    {
      "cell_type": "code",
      "execution_count": 13,
      "metadata": {
        "id": "TUxzvRBVQYyk"
      },
      "outputs": [],
      "source": [
        "# TinyVGG inpsired\n",
        "# First Convolution Blocks With BatchNorm, MaxPool and Dropout\n",
        "class ConvBlock(nn.Module):\n",
        "    def __init__(self, in_channesl, out_channls, kernel_size = (3, 3), stride=1, pool_kernel = (2,2), dropout_rate = .2):\n",
        "        super(ConvBlock, self).__init__()\n",
        "        self.main = nn.Sequential(\n",
        "            nn.Conv2d(in_channels=in_channesl,\n",
        "                              out_channels=out_channls,\n",
        "                              kernel_size=kernel_size,\n",
        "                              stride=stride),\n",
        "            nn.ReLU(True),\n",
        "            nn.BatchNorm2d(out_channls),\n",
        "            nn.Conv2d(in_channels=out_channls,\n",
        "                              out_channels=out_channls,\n",
        "                              kernel_size=kernel_size,\n",
        "                              stride=stride),\n",
        "            nn.ReLU(True),\n",
        "            nn.BatchNorm2d(out_channls),\n",
        "            nn.MaxPool2d(kernel_size = pool_kernel),\n",
        "            nn.Dropout(dropout_rate))\n",
        "    \n",
        "    def forward(self, x):\n",
        "        return self.main(x)\n",
        "\n",
        "# Added couple extra fully connected layers\n",
        "class FullyConnected(nn.Module):\n",
        "    def __init__(self, in_features, out_featuers, dropout_rate) -> None:\n",
        "        super(FullyConnected, self).__init__()\n",
        "        \n",
        "        self.main = nn.Sequential(\n",
        "            nn.Linear(in_features=in_features, out_features=out_featuers),\n",
        "            nn.ReLU(True),\n",
        "            nn.BatchNorm1d(out_featuers),\n",
        "            nn.Dropout(dropout_rate),)\n",
        "    \n",
        "    def forward(self, x):\n",
        "        return self.main(x)\n",
        "    \n",
        "    \n",
        "class TinyVGGish(torch.nn.Module):\n",
        "    def __init__(self, \n",
        "                 filters = 32, \n",
        "                 num_classes = 10,\n",
        "                 kernel_size = 3, \n",
        "                 stride = 1, \n",
        "                 in_channels = 3,\n",
        "                 pool_kernel_size = 2):\n",
        "        \n",
        "        \"\"\"TinyVGG Inspired Model with Added complexity and Regularizaiton\"\"\"\n",
        "        super(TinyVGGish, self).__init__()\n",
        "        \n",
        "        # First Convolution Block\n",
        "        self.main = nn.Sequential(\n",
        "            ConvBlock(in_channesl=in_channels, out_channls=filters, kernel_size=kernel_size, stride=stride, pool_kernel=pool_kernel_size, dropout_rate=.25),\n",
        "            ConvBlock(in_channesl=filters, out_channls=filters*2, kernel_size=kernel_size, stride=stride, pool_kernel=pool_kernel_size, dropout_rate=.3),\n",
        "            ConvBlock(in_channesl=filters*2, out_channls=filters*4, kernel_size=kernel_size, stride=stride, pool_kernel=pool_kernel_size, dropout_rate=.5),\n",
        "            nn.Flatten(),\n",
        "            FullyConnected(in_features=52224, out_featuers=10, dropout_rate=.3),\n",
        "            # FullyConnected(in_features=512, out_featuers=128, dropout_rate=dense_dropout_rate),\n",
        "            # FullyConnected(in_features=128, out_featuers=num_classes, dropout_rate=dense_dropout_rate),\n",
        "            )\n",
        "\n",
        "    def forward(self, x):\n",
        "        # Pass the data through the convolutional blocks\n",
        "        x = self.main(x)\n",
        "        return x"
      ]
    },
    {
      "cell_type": "code",
      "execution_count": 14,
      "metadata": {
        "colab": {
          "base_uri": "https://localhost:8080/"
        },
        "id": "vvw9GCTCQYyk",
        "outputId": "64201891-f8e7-45e9-978d-84c6bb131e8b"
      },
      "outputs": [],
      "source": [
        "# Initialize Efficientnet model\n",
        "model = TinyVGGish(num_classes = 10)"
      ]
    },
    {
      "cell_type": "code",
      "execution_count": 15,
      "metadata": {
        "id": "MZbi4fJNQYyk"
      },
      "outputs": [],
      "source": [
        "batch_size = config['modeling_params']['batch_size']\n",
        "epochs = 50 # config['modeling_params']['epochs']\n",
        "seed = 42\n",
        "\n",
        "train_dataloader = DataLoader(train_data, batch_size=batch_size, shuffle=True)\n",
        "val_dataloader = DataLoader(val_data, batch_size=batch_size, shuffle=True)\n",
        "test_dataloader = DataLoader(test_data, batch_size=batch_size, shuffle=True)"
      ]
    },
    {
      "cell_type": "code",
      "execution_count": 16,
      "metadata": {
        "colab": {
          "base_uri": "https://localhost:8080/"
        },
        "id": "kXvq116rQYyk",
        "outputId": "09f8105e-5ec8-404a-dc7d-b27ffe882a7a"
      },
      "outputs": [
        {
          "data": {
            "text/plain": [
              "==========================================================================================\n",
              "Layer (type:depth-idx)                   Output Shape              Param #\n",
              "==========================================================================================\n",
              "TinyVGGish                               [32, 10]                  --\n",
              "├─Sequential: 1-1                        [32, 10]                  --\n",
              "│    └─ConvBlock: 2-1                    [32, 32, 82, 110]         --\n",
              "│    │    └─Sequential: 3-1              [32, 32, 82, 110]         10,272\n",
              "│    └─ConvBlock: 2-2                    [32, 64, 39, 53]          --\n",
              "│    │    └─Sequential: 3-2              [32, 64, 39, 53]          55,680\n",
              "│    └─ConvBlock: 2-3                    [32, 128, 17, 24]         --\n",
              "│    │    └─Sequential: 3-3              [32, 128, 17, 24]         221,952\n",
              "│    └─Flatten: 2-4                      [32, 52224]               --\n",
              "│    └─FullyConnected: 2-5               [32, 10]                  --\n",
              "│    │    └─Sequential: 3-4              [32, 10]                  522,270\n",
              "==========================================================================================\n",
              "Total params: 810,174\n",
              "Trainable params: 810,174\n",
              "Non-trainable params: 0\n",
              "Total mult-adds (Units.GIGABYTES): 39.19\n",
              "==========================================================================================\n",
              "Input size (MB): 14.45\n",
              "Forward/backward pass size (MB): 1985.03\n",
              "Params size (MB): 3.24\n",
              "Estimated Total Size (MB): 2002.72\n",
              "=========================================================================================="
            ]
          },
          "execution_count": 16,
          "metadata": {},
          "output_type": "execute_result"
        }
      ],
      "source": [
        "# Model summary\n",
        "x, y = next(iter(train_dataloader))\n",
        "\n",
        "summary(model, input_size=x.shape)"
      ]
    },
    {
      "cell_type": "markdown",
      "metadata": {
        "id": "qijKuDacQYyl"
      },
      "source": [
        "#### `Training Methods`"
      ]
    },
    {
      "cell_type": "code",
      "execution_count": 17,
      "metadata": {},
      "outputs": [],
      "source": [
        "def visualize_training(history, num_epochs=50):\n",
        "    \n",
        "    # Generate Figure\n",
        "    fig, axs = plt.subplots(1, 2, figsize=(12, 5))\n",
        "    \n",
        "    # Loss Plots\n",
        "    sns.lineplot(y=history['train_loss'], x=list(range(len(history['train_loss']))), ax=axs[0], label='Train Loss')\n",
        "    sns.lineplot(y=history['val_loss'], x=list(range(len(history['val_loss']))), ax=axs[0], label='Validation Loss')\n",
        "    axs[0].set_ylabel('Cross Entropy Loss')\n",
        "    axs[0].set_xlabel('Epochs')\n",
        "    axs[0].set_xlim(0, num_epochs)\n",
        "\n",
        "    # Accuracy Plots\n",
        "    sns.lineplot(y=history['train_acc'], x=list(range(len(history['train_acc']))), ax=axs[1], label='Train Accuracy')\n",
        "    sns.lineplot(y=history['val_acc'], x=list(range(len(history['val_acc']))), ax=axs[1], label='Validation Accuracy')\n",
        "    axs[1].set_ylabel('Accuracy')\n",
        "    axs[1].set_xlabel('Epochs')\n",
        "    axs[1].set_xlim(0, num_epochs)\n",
        "    \n",
        "    # Show plot\n",
        "    plt.show()"
      ]
    },
    {
      "cell_type": "code",
      "execution_count": 18,
      "metadata": {
        "id": "VPo-51GAQYyl"
      },
      "outputs": [],
      "source": [
        "def train_step(model, dataloader, loss_fn,optimizer, device):\n",
        "    \"\"\"Train step for a single epoch. Taken from PyTorch 'Training with PyTorch'\"\"\"\n",
        "    \n",
        "    # Losses and accuracies\n",
        "    train_loss, train_acc = 0, 0\n",
        "\n",
        "    for i, data in enumerate(dataloader):\n",
        "        \n",
        "        # Extracting data and labels + moving to device\n",
        "        imgs, labels = data\n",
        "        imgs, labels = imgs.to(device), labels.to(device)\n",
        "        \n",
        "        # Zero-ing gradients for every new batch\n",
        "        optimizer.zero_grad()\n",
        "\n",
        "        # Forward pass\n",
        "        prediction = model(imgs)\n",
        "        \n",
        "        # Computing Loss and Gradient\n",
        "        loss = loss_fn(prediction, labels)\n",
        "        loss.backward()\n",
        "\n",
        "        optimizer.step()\n",
        "\n",
        "        # Update train loss and accuracy\n",
        "        train_loss += loss.item()\n",
        "        train_acc += (prediction.argmax(1) == labels).type(torch.float).mean().item()\n",
        "    # Return train loss and accuracy\n",
        "    return train_loss / len(dataloader), train_acc / len(dataloader)\n"
      ]
    },
    {
      "cell_type": "code",
      "execution_count": 19,
      "metadata": {
        "id": "P13K9bx-QYyl"
      },
      "outputs": [],
      "source": [
        "def validation(model, dataloader, loss_fn, device):\n",
        "    \"\"\"Validation loop\"\"\"\n",
        "    # Setup validation loss and accuracy\n",
        "    val_loss, val_acc = 0, 0\n",
        "\n",
        "    # Disable gradient calculations\n",
        "    with torch.no_grad():\n",
        "        for i, data in enumerate(dataloader):   \n",
        "            # Extract imgs and labels and sent to device\n",
        "            imgs, labels = data\n",
        "            imgs, labels  = imgs.to(device), labels.to(device)\n",
        "\n",
        "            # Forward pass and update validation loss\n",
        "            prediction = model(imgs)\n",
        "            loss = loss_fn(prediction, labels)\n",
        "            val_loss += loss.item()\n",
        "\n",
        "            # Update validation accuracy\n",
        "            val_acc += (prediction.argmax(1) == labels).type(torch.float).mean().item()\n",
        "    # Return validation loss and accuracy\n",
        "    return val_loss / len(dataloader), val_acc / len(dataloader)"
      ]
    },
    {
      "cell_type": "code",
      "execution_count": 20,
      "metadata": {},
      "outputs": [],
      "source": [
        "def save_model(model, model_name, epoch):\n",
        "    \"\"\"Function for saving model\"\"\"\n",
        "    # Model name, with path\n",
        "    timestamp = dt.datetime.now().strftime('%Y%m%d_%H%M%S')\n",
        "    file = f'{model_name}_{timestamp}_epoch_{epoch+1}'\n",
        "    name = os.path.join(config['outputs']['path'], model_name, file)\n",
        "    \n",
        "    # Make directory if not exists\n",
        "    if not os.path.exists(os.path.join(os.path.join(config['outputs']['path'], model_name))):\n",
        "        os.makedirs(os.path.join(os.path.join(config['outputs']['path'], model_name)))\n",
        "    \n",
        "    # Save model\n",
        "    torch.save(model.state_dict(), f'{name}.pt')"
      ]
    },
    {
      "cell_type": "code",
      "execution_count": 21,
      "metadata": {},
      "outputs": [],
      "source": [
        "class EarlyStopper:\n",
        "    \"\"\"Early Stopping Class. Copied from https://stackoverflow.com/questions/71998978/early-stopping-in-pytorch\"\"\"\n",
        "    def __init__(self, patience=1, min_delta=0):\n",
        "        self.patience = patience\n",
        "        self.min_delta = min_delta\n",
        "        self.counter = 0\n",
        "        self.min_validation_loss = float('inf')\n",
        "\n",
        "    def early_stop(self, validation_loss):\n",
        "        if validation_loss < self.min_validation_loss:\n",
        "            self.min_validation_loss = validation_loss\n",
        "            if self.counter != 0:\n",
        "                print('Early Stopping Counter Reset')\n",
        "            self.counter = 0\n",
        "        elif validation_loss > (self.min_validation_loss + self.min_delta):\n",
        "            self.counter += 1\n",
        "            print(f'Early Stopping Counter {self.counter} of {self.patience}')\n",
        "            if self.counter >= self.patience:\n",
        "                return True\n",
        "        return False"
      ]
    },
    {
      "cell_type": "code",
      "execution_count": 27,
      "metadata": {
        "id": "t-ndlrjVQYyl"
      },
      "outputs": [],
      "source": [
        "def train(model, train_dataloader, validation_dataloader, optimizer, loss_fn, epochs, device, scheduler, early_stopping, model_name):\n",
        "    \"\"\"Model training method\"\"\"\n",
        "    # History\n",
        "    history = dict(train_loss=[],\n",
        "                   train_acc=[],\n",
        "                   val_loss=[],\n",
        "                   val_acc=[])\n",
        "\n",
        "    # Save start of training\n",
        "    total_training_start = time.time()\n",
        "    # Loop through epochs\n",
        "    for epoch in range(epochs):\n",
        "        print(f'\\nEpoch {epoch+1} of {epochs} started...')\n",
        "        \n",
        "        # Get start training step time\n",
        "        start_train = time.time()\n",
        "        \n",
        "        # Set model to train mode and do pass over data - plus save start of training step\n",
        "        model.train(True)\n",
        "        train_loss, train_acc = train_step(model, train_dataloader, loss_fn, optimizer, device)\n",
        "\n",
        "        # Set model to eval and do pass over validation data + time for start of validation step\n",
        "        model.eval()\n",
        "        val_loss, val_acc = validation(model, validation_dataloader, loss_fn, device)\n",
        "        \n",
        "        # Calculate total time spent\n",
        "        end_train = time.time()\n",
        "        total_m, total_s = divmod(end_train - start_train, 60)\n",
        "        \n",
        "        # lr Scheduler step\n",
        "        if scheduler != None:\n",
        "            scheduler.step(val_loss)\n",
        "        \n",
        "        print(f\"Epoch {epoch+1} of {epochs} ({round(total_m)}:{round(total_s)}) - Train loss: {train_loss:.5f} - Train acc: {train_acc:.5f} - Val loss: {val_loss:.5f} - Val acc: {val_acc:.5f}\")\n",
        "        \n",
        "        \n",
        "        # Save model if val loss is lower than previous lowest\n",
        "        if val_loss < min(history['val_loss'], default=1e10):\n",
        "            print(f\"Saving model with new best val_loss: {val_loss:.5f}\")\n",
        "            \n",
        "            # Save model\n",
        "            save_model(model, model_name, epoch)\n",
        "        \n",
        "        # Save train and val loss/acc\n",
        "        history['train_loss'].append(train_loss)\n",
        "        history['train_acc'].append(train_acc)\n",
        "        history['val_loss'].append(val_loss)\n",
        "        history['val_acc'].append(val_acc)\n",
        "\n",
        "        # Visualize every 5th epoch\n",
        "        if (epoch + 1) % 5 == 0: \n",
        "            visualize_training(history, epochs)\n",
        "            \n",
        "        if early_stopping.early_stop(val_loss):             \n",
        "            print(f\"Epoch {epoch+1} of {epochs} - Early stopping\")\n",
        "            print('Saving final model, with loss: ', val_loss)\n",
        "            save_model(model, model_name, epoch)\n",
        "            visualize_training(history, epoch+1)\n",
        "            break\n",
        "    total_training_end = time.time()\n",
        "    minutes, seconds = divmod(total_training_end-total_training_start, 60)\n",
        "    \n",
        "    print(f'Total training time: {round(minutes)}:{round(seconds)}')\n",
        "    return history"
      ]
    },
    {
      "cell_type": "code",
      "execution_count": 29,
      "metadata": {},
      "outputs": [
        {
          "name": "stdout",
          "output_type": "stream",
          "text": [
            "Adjusting learning rate of group 0 to 1.0000e-02.\n"
          ]
        }
      ],
      "source": [
        "# Setting seed and general training setup\n",
        "torch.manual_seed(seed)\n",
        "epcohs = 50\n",
        "learming_rate = 0.01\n",
        "momentum = .9\n",
        "weight_decay = 1e-5\n",
        "nestrov = True\n",
        "MODEL_NAME = 'TinyVGG'\n",
        "\n",
        "# Creating Model Object\n",
        "model = TinyVGGish(num_classes = 10).to(device)\n",
        "\n",
        "# Optimizer and and scheduler\n",
        "optimizer = torch.optim.SGD(model.parameters(), lr=learming_rate, weight_decay=weight_decay, momentum=momentum, nesterov=nestrov)\n",
        "# optimizer = torch.optim.Adam(model.parameters(), lr=learming_rate, weight_decay=weight_decay)\n",
        "scheduler = torch.optim.lr_scheduler.CosineAnnealingLR(optimizer,\n",
        "                                                       T_max = epochs,  \n",
        "                                                       eta_min = 0,\n",
        "                                                       verbose=1)\n",
        "\n",
        "# Loss function\n",
        "loss_fn = nn.CrossEntropyLoss()\n",
        "\n",
        "# Early stopping\n",
        "early_stopping = EarlyStopper(patience=7, min_delta=.03)"
      ]
    },
    {
      "cell_type": "code",
      "execution_count": 32,
      "metadata": {
        "colab": {
          "base_uri": "https://localhost:8080/",
          "height": 246
        },
        "id": "FVasakcHQYyl",
        "outputId": "4b278096-1a4d-4782-f999-cb1dbe2513a7"
      },
      "outputs": [
        {
          "name": "stdout",
          "output_type": "stream",
          "text": [
            "\n",
            "Epoch 1 of 50 started...\n"
          ]
        },
        {
          "name": "stderr",
          "output_type": "stream",
          "text": [
            "/Users/rasmuskrebs/.local/lib/python3.11/site-packages/torch/optim/lr_scheduler.py:149: UserWarning: The epoch parameter in `scheduler.step()` was not necessary and is being deprecated where possible. Please use `scheduler.step()` to step the scheduler. During the deprecation, if epoch is different from None, the closed form is used instead of the new chainable form, where available. Please open an issue if you are unable to replicate your use case: https://github.com/pytorch/pytorch/issues/new/choose.\n",
            "  warnings.warn(EPOCH_DEPRECATION_WARNING, UserWarning)\n"
          ]
        },
        {
          "name": "stdout",
          "output_type": "stream",
          "text": [
            "Epoch 2.46: adjusting learning rate of group 0 to 9.9406e-03.\n",
            "Epoch 1 of 50 (4:59) - Train loss: 2.33401 - Train acc: 0.14169 - Val loss: 2.45547 - Val acc: 0.11183\n",
            "Saving model with new best val_loss: 2.45547\n",
            "\n",
            "Epoch 2 of 50 started...\n",
            "Epoch 2.43: adjusting learning rate of group 0 to 9.9416e-03.\n",
            "Epoch 2 of 50 (4:54) - Train loss: 2.08162 - Train acc: 0.25808 - Val loss: 2.43438 - Val acc: 0.20439\n",
            "Saving model with new best val_loss: 2.43438\n",
            "\n",
            "Epoch 3 of 50 started...\n",
            "Epoch 2.30: adjusting learning rate of group 0 to 9.9481e-03.\n",
            "Epoch 3 of 50 (4:50) - Train loss: 1.72538 - Train acc: 0.40850 - Val loss: 2.29590 - Val acc: 0.29116\n",
            "Saving model with new best val_loss: 2.29590\n",
            "\n",
            "Epoch 4 of 50 started...\n",
            "Epoch 2.37: adjusting learning rate of group 0 to 9.9445e-03.\n",
            "Epoch 4 of 50 (4:37) - Train loss: 1.50877 - Train acc: 0.48338 - Val loss: 2.37427 - Val acc: 0.32542\n",
            "Early Stopping Counter 1 of 7\n",
            "\n",
            "Epoch 5 of 50 started...\n",
            "Epoch 2.55: adjusting learning rate of group 0 to 9.9362e-03.\n",
            "Epoch 5 of 50 (4:46) - Train loss: 1.32416 - Train acc: 0.54339 - Val loss: 2.54572 - Val acc: 0.20264\n"
          ]
        },
        {
          "data": {
            "image/png": "[encoded data removed]",
            "text/plain": [
              "<Figure size 1200x500 with 2 Axes>"
            ]
          },
          "metadata": {},
          "output_type": "display_data"
        },
        {
          "name": "stdout",
          "output_type": "stream",
          "text": [
            "Early Stopping Counter 2 of 7\n",
            "\n",
            "Epoch 6 of 50 started...\n"
          ]
        },
        {
          "name": "stderr",
          "output_type": "stream",
          "text": [
            "/Users/rasmuskrebs/.local/lib/python3.11/site-packages/torch/optim/lr_scheduler.py:149: UserWarning: The epoch parameter in `scheduler.step()` was not necessary and is being deprecated where possible. Please use `scheduler.step()` to step the scheduler. During the deprecation, if epoch is different from None, the closed form is used instead of the new chainable form, where available. Please open an issue if you are unable to replicate your use case: https://github.com/pytorch/pytorch/issues/new/choose.\n",
            "  warnings.warn(EPOCH_DEPRECATION_WARNING, UserWarning)\n"
          ]
        },
        {
          "name": "stdout",
          "output_type": "stream",
          "text": [
            "Epoch 2.18: adjusting learning rate of group 0 to 9.9530e-03.\n",
            "Epoch 6 of 50 (4:43) - Train loss: 1.22085 - Train acc: 0.57396 - Val loss: 2.18326 - Val acc: 0.32230\n",
            "Saving model with new best val_loss: 2.18326\n",
            "Early Stopping Counter Reset\n",
            "\n",
            "Epoch 7 of 50 started...\n",
            "Epoch 2.51: adjusting learning rate of group 0 to 9.9382e-03.\n",
            "Epoch 7 of 50 (4:48) - Train loss: 1.15559 - Train acc: 0.58585 - Val loss: 2.50582 - Val acc: 0.31021\n",
            "Early Stopping Counter 1 of 7\n",
            "\n",
            "Epoch 8 of 50 started...\n",
            "Epoch 1.97: adjusting learning rate of group 0 to 9.9616e-03.\n",
            "Epoch 8 of 50 (4:36) - Train loss: 1.09746 - Train acc: 0.60315 - Val loss: 1.97368 - Val acc: 0.32906\n",
            "Saving model with new best val_loss: 1.97368\n",
            "Early Stopping Counter Reset\n",
            "\n",
            "Epoch 9 of 50 started...\n",
            "Epoch 2.35: adjusting learning rate of group 0 to 9.9454e-03.\n",
            "Epoch 9 of 50 (4:34) - Train loss: 1.06334 - Train acc: 0.61231 - Val loss: 2.35474 - Val acc: 0.31768\n",
            "Early Stopping Counter 1 of 7\n",
            "\n",
            "Epoch 10 of 50 started...\n",
            "Epoch 2.09: adjusting learning rate of group 0 to 9.9571e-03.\n",
            "Epoch 10 of 50 (4:35) - Train loss: 1.01148 - Train acc: 0.63122 - Val loss: 2.08598 - Val acc: 0.38256\n"
          ]
        },
        {
          "data": {
            "image/png": "[encoded data removed]",
            "text/plain": [
              "<Figure size 1200x500 with 2 Axes>"
            ]
          },
          "metadata": {},
          "output_type": "display_data"
        },
        {
          "name": "stdout",
          "output_type": "stream",
          "text": [
            "Early Stopping Counter 2 of 7\n",
            "\n",
            "Epoch 11 of 50 started...\n"
          ]
        },
        {
          "name": "stderr",
          "output_type": "stream",
          "text": [
            "/Users/rasmuskrebs/.local/lib/python3.11/site-packages/torch/optim/lr_scheduler.py:149: UserWarning: The epoch parameter in `scheduler.step()` was not necessary and is being deprecated where possible. Please use `scheduler.step()` to step the scheduler. During the deprecation, if epoch is different from None, the closed form is used instead of the new chainable form, where available. Please open an issue if you are unable to replicate your use case: https://github.com/pytorch/pytorch/issues/new/choose.\n",
            "  warnings.warn(EPOCH_DEPRECATION_WARNING, UserWarning)\n"
          ]
        },
        {
          "name": "stdout",
          "output_type": "stream",
          "text": [
            "Epoch 1.82: adjusting learning rate of group 0 to 9.9674e-03.\n",
            "Epoch 11 of 50 (4:54) - Train loss: 0.99256 - Train acc: 0.62975 - Val loss: 1.81800 - Val acc: 0.45243\n",
            "Saving model with new best val_loss: 1.81800\n",
            "Early Stopping Counter Reset\n",
            "\n",
            "Epoch 12 of 50 started...\n",
            "Epoch 1.76: adjusting learning rate of group 0 to 9.9693e-03.\n",
            "Epoch 12 of 50 (4:36) - Train loss: 0.95737 - Train acc: 0.64042 - Val loss: 1.76380 - Val acc: 0.47502\n",
            "Saving model with new best val_loss: 1.76380\n",
            "\n",
            "Epoch 13 of 50 started...\n",
            "Epoch 1.98: adjusting learning rate of group 0 to 9.9615e-03.\n",
            "Epoch 13 of 50 (4:35) - Train loss: 0.93390 - Train acc: 0.64266 - Val loss: 1.97761 - Val acc: 0.45504\n",
            "Early Stopping Counter 1 of 7\n",
            "\n",
            "Epoch 14 of 50 started...\n",
            "Epoch 2.17: adjusting learning rate of group 0 to 9.9536e-03.\n",
            "Epoch 14 of 50 (4:35) - Train loss: 0.90658 - Train acc: 0.65582 - Val loss: 2.16959 - Val acc: 0.44336\n",
            "Early Stopping Counter 2 of 7\n",
            "\n",
            "Epoch 15 of 50 started...\n",
            "Epoch 1.72: adjusting learning rate of group 0 to 9.9709e-03.\n",
            "Epoch 15 of 50 (4:17) - Train loss: 0.90196 - Train acc: 0.65491 - Val loss: 1.71748 - Val acc: 0.46891\n",
            "Saving model with new best val_loss: 1.71748\n"
          ]
        },
        {
          "data": {
            "image/png": "[encoded data removed]",
            "text/plain": [
              "<Figure size 1200x500 with 2 Axes>"
            ]
          },
          "metadata": {},
          "output_type": "display_data"
        },
        {
          "name": "stdout",
          "output_type": "stream",
          "text": [
            "Early Stopping Counter Reset\n",
            "\n",
            "Epoch 16 of 50 started...\n"
          ]
        },
        {
          "name": "stderr",
          "output_type": "stream",
          "text": [
            "/Users/rasmuskrebs/.local/lib/python3.11/site-packages/torch/optim/lr_scheduler.py:149: UserWarning: The epoch parameter in `scheduler.step()` was not necessary and is being deprecated where possible. Please use `scheduler.step()` to step the scheduler. During the deprecation, if epoch is different from None, the closed form is used instead of the new chainable form, where available. Please open an issue if you are unable to replicate your use case: https://github.com/pytorch/pytorch/issues/new/choose.\n",
            "  warnings.warn(EPOCH_DEPRECATION_WARNING, UserWarning)\n"
          ]
        },
        {
          "name": "stdout",
          "output_type": "stream",
          "text": [
            "Epoch 1.91: adjusting learning rate of group 0 to 9.9639e-03.\n",
            "Epoch 16 of 50 (4:36) - Train loss: 0.88952 - Train acc: 0.65742 - Val loss: 1.91295 - Val acc: 0.44347\n",
            "Early Stopping Counter 1 of 7\n",
            "\n",
            "Epoch 17 of 50 started...\n"
          ]
        },
        {
          "ename": "KeyboardInterrupt",
          "evalue": "",
          "output_type": "error",
          "traceback": [
            "\u001b[0;31m---------------------------------------------------------------------------\u001b[0m",
            "\u001b[0;31mKeyboardInterrupt\u001b[0m                         Traceback (most recent call last)",
            "\u001b[1;32m/Users/rasmuskrebs/Documents/School/semester_3/advanced_ml/aml_itu/notebooks/20112023_TinyVGG_best.ipynb Cell 21\u001b[0m line \u001b[0;36m2\n\u001b[1;32m      <a href='vscode-notebook-cell:/Users/rasmuskrebs/Documents/School/semester_3/advanced_ml/aml_itu/notebooks/20112023_TinyVGG_best.ipynb#X30sZmlsZQ%3D%3D?line=0'>1</a>\u001b[0m \u001b[39m# results\u001b[39;00m\n\u001b[0;32m----> <a href='vscode-notebook-cell:/Users/rasmuskrebs/Documents/School/semester_3/advanced_ml/aml_itu/notebooks/20112023_TinyVGG_best.ipynb#X30sZmlsZQ%3D%3D?line=1'>2</a>\u001b[0m results \u001b[39m=\u001b[39m train(model\u001b[39m=\u001b[39mmodel,\n\u001b[1;32m      <a href='vscode-notebook-cell:/Users/rasmuskrebs/Documents/School/semester_3/advanced_ml/aml_itu/notebooks/20112023_TinyVGG_best.ipynb#X30sZmlsZQ%3D%3D?line=2'>3</a>\u001b[0m                 train_dataloader\u001b[39m=\u001b[39mtrain_dataloader,\n\u001b[1;32m      <a href='vscode-notebook-cell:/Users/rasmuskrebs/Documents/School/semester_3/advanced_ml/aml_itu/notebooks/20112023_TinyVGG_best.ipynb#X30sZmlsZQ%3D%3D?line=3'>4</a>\u001b[0m                 validation_dataloader\u001b[39m=\u001b[39mval_dataloader,\n\u001b[1;32m      <a href='vscode-notebook-cell:/Users/rasmuskrebs/Documents/School/semester_3/advanced_ml/aml_itu/notebooks/20112023_TinyVGG_best.ipynb#X30sZmlsZQ%3D%3D?line=4'>5</a>\u001b[0m                 optimizer\u001b[39m=\u001b[39moptimizer,\n\u001b[1;32m      <a href='vscode-notebook-cell:/Users/rasmuskrebs/Documents/School/semester_3/advanced_ml/aml_itu/notebooks/20112023_TinyVGG_best.ipynb#X30sZmlsZQ%3D%3D?line=5'>6</a>\u001b[0m                 loss_fn\u001b[39m=\u001b[39mloss_fn,\n\u001b[1;32m      <a href='vscode-notebook-cell:/Users/rasmuskrebs/Documents/School/semester_3/advanced_ml/aml_itu/notebooks/20112023_TinyVGG_best.ipynb#X30sZmlsZQ%3D%3D?line=6'>7</a>\u001b[0m                 epochs\u001b[39m=\u001b[39mepochs,\n\u001b[1;32m      <a href='vscode-notebook-cell:/Users/rasmuskrebs/Documents/School/semester_3/advanced_ml/aml_itu/notebooks/20112023_TinyVGG_best.ipynb#X30sZmlsZQ%3D%3D?line=7'>8</a>\u001b[0m                 device\u001b[39m=\u001b[39mdevice,\n\u001b[1;32m      <a href='vscode-notebook-cell:/Users/rasmuskrebs/Documents/School/semester_3/advanced_ml/aml_itu/notebooks/20112023_TinyVGG_best.ipynb#X30sZmlsZQ%3D%3D?line=8'>9</a>\u001b[0m                 scheduler\u001b[39m=\u001b[39mscheduler,\n\u001b[1;32m     <a href='vscode-notebook-cell:/Users/rasmuskrebs/Documents/School/semester_3/advanced_ml/aml_itu/notebooks/20112023_TinyVGG_best.ipynb#X30sZmlsZQ%3D%3D?line=9'>10</a>\u001b[0m                 early_stopping\u001b[39m=\u001b[39mearly_stopping,\n\u001b[1;32m     <a href='vscode-notebook-cell:/Users/rasmuskrebs/Documents/School/semester_3/advanced_ml/aml_itu/notebooks/20112023_TinyVGG_best.ipynb#X30sZmlsZQ%3D%3D?line=10'>11</a>\u001b[0m                 model_name\u001b[39m=\u001b[39mMODEL_NAME)\n",
            "\u001b[1;32m/Users/rasmuskrebs/Documents/School/semester_3/advanced_ml/aml_itu/notebooks/20112023_TinyVGG_best.ipynb Cell 21\u001b[0m line \u001b[0;36m2\n\u001b[1;32m     <a href='vscode-notebook-cell:/Users/rasmuskrebs/Documents/School/semester_3/advanced_ml/aml_itu/notebooks/20112023_TinyVGG_best.ipynb#X30sZmlsZQ%3D%3D?line=17'>18</a>\u001b[0m \u001b[39m# Set model to train mode and do pass over data - plus save start of training step\u001b[39;00m\n\u001b[1;32m     <a href='vscode-notebook-cell:/Users/rasmuskrebs/Documents/School/semester_3/advanced_ml/aml_itu/notebooks/20112023_TinyVGG_best.ipynb#X30sZmlsZQ%3D%3D?line=18'>19</a>\u001b[0m model\u001b[39m.\u001b[39mtrain(\u001b[39mTrue\u001b[39;00m)\n\u001b[0;32m---> <a href='vscode-notebook-cell:/Users/rasmuskrebs/Documents/School/semester_3/advanced_ml/aml_itu/notebooks/20112023_TinyVGG_best.ipynb#X30sZmlsZQ%3D%3D?line=19'>20</a>\u001b[0m train_loss, train_acc \u001b[39m=\u001b[39m train_step(model, train_dataloader, loss_fn, optimizer, device)\n\u001b[1;32m     <a href='vscode-notebook-cell:/Users/rasmuskrebs/Documents/School/semester_3/advanced_ml/aml_itu/notebooks/20112023_TinyVGG_best.ipynb#X30sZmlsZQ%3D%3D?line=21'>22</a>\u001b[0m \u001b[39m# Set model to eval and do pass over validation data + time for start of validation step\u001b[39;00m\n\u001b[1;32m     <a href='vscode-notebook-cell:/Users/rasmuskrebs/Documents/School/semester_3/advanced_ml/aml_itu/notebooks/20112023_TinyVGG_best.ipynb#X30sZmlsZQ%3D%3D?line=22'>23</a>\u001b[0m model\u001b[39m.\u001b[39meval()\n",
            "\u001b[1;32m/Users/rasmuskrebs/Documents/School/semester_3/advanced_ml/aml_itu/notebooks/20112023_TinyVGG_best.ipynb Cell 21\u001b[0m line \u001b[0;36m2\n\u001b[1;32m     <a href='vscode-notebook-cell:/Users/rasmuskrebs/Documents/School/semester_3/advanced_ml/aml_itu/notebooks/20112023_TinyVGG_best.ipynb#X30sZmlsZQ%3D%3D?line=18'>19</a>\u001b[0m \u001b[39m# Computing Loss and Gradient\u001b[39;00m\n\u001b[1;32m     <a href='vscode-notebook-cell:/Users/rasmuskrebs/Documents/School/semester_3/advanced_ml/aml_itu/notebooks/20112023_TinyVGG_best.ipynb#X30sZmlsZQ%3D%3D?line=19'>20</a>\u001b[0m loss \u001b[39m=\u001b[39m loss_fn(prediction, labels)\n\u001b[0;32m---> <a href='vscode-notebook-cell:/Users/rasmuskrebs/Documents/School/semester_3/advanced_ml/aml_itu/notebooks/20112023_TinyVGG_best.ipynb#X30sZmlsZQ%3D%3D?line=20'>21</a>\u001b[0m loss\u001b[39m.\u001b[39mbackward()\n\u001b[1;32m     <a href='vscode-notebook-cell:/Users/rasmuskrebs/Documents/School/semester_3/advanced_ml/aml_itu/notebooks/20112023_TinyVGG_best.ipynb#X30sZmlsZQ%3D%3D?line=22'>23</a>\u001b[0m optimizer\u001b[39m.\u001b[39mstep()\n\u001b[1;32m     <a href='vscode-notebook-cell:/Users/rasmuskrebs/Documents/School/semester_3/advanced_ml/aml_itu/notebooks/20112023_TinyVGG_best.ipynb#X30sZmlsZQ%3D%3D?line=24'>25</a>\u001b[0m \u001b[39m# Update train loss and accuracy\u001b[39;00m\n",
            "File \u001b[0;32m~/.local/lib/python3.11/site-packages/torch/_tensor.py:491\u001b[0m, in \u001b[0;36mTensor.backward\u001b[0;34m(self, gradient, retain_graph, create_graph, inputs)\u001b[0m\n\u001b[1;32m    481\u001b[0m \u001b[39mif\u001b[39;00m has_torch_function_unary(\u001b[39mself\u001b[39m):\n\u001b[1;32m    482\u001b[0m     \u001b[39mreturn\u001b[39;00m handle_torch_function(\n\u001b[1;32m    483\u001b[0m         Tensor\u001b[39m.\u001b[39mbackward,\n\u001b[1;32m    484\u001b[0m         (\u001b[39mself\u001b[39m,),\n\u001b[0;32m   (...)\u001b[0m\n\u001b[1;32m    489\u001b[0m         inputs\u001b[39m=\u001b[39minputs,\n\u001b[1;32m    490\u001b[0m     )\n\u001b[0;32m--> 491\u001b[0m torch\u001b[39m.\u001b[39mautograd\u001b[39m.\u001b[39mbackward(\n\u001b[1;32m    492\u001b[0m     \u001b[39mself\u001b[39m, gradient, retain_graph, create_graph, inputs\u001b[39m=\u001b[39minputs\n\u001b[1;32m    493\u001b[0m )\n",
            "File \u001b[0;32m~/.local/lib/python3.11/site-packages/torch/autograd/__init__.py:204\u001b[0m, in \u001b[0;36mbackward\u001b[0;34m(tensors, grad_tensors, retain_graph, create_graph, grad_variables, inputs)\u001b[0m\n\u001b[1;32m    199\u001b[0m     retain_graph \u001b[39m=\u001b[39m create_graph\n\u001b[1;32m    201\u001b[0m \u001b[39m# The reason we repeat the same comment below is that\u001b[39;00m\n\u001b[1;32m    202\u001b[0m \u001b[39m# some Python versions print out the first line of a multi-line function\u001b[39;00m\n\u001b[1;32m    203\u001b[0m \u001b[39m# calls in the traceback and some print out the last line\u001b[39;00m\n\u001b[0;32m--> 204\u001b[0m Variable\u001b[39m.\u001b[39m_execution_engine\u001b[39m.\u001b[39mrun_backward(  \u001b[39m# Calls into the C++ engine to run the backward pass\u001b[39;00m\n\u001b[1;32m    205\u001b[0m     tensors, grad_tensors_, retain_graph, create_graph, inputs,\n\u001b[1;32m    206\u001b[0m     allow_unreachable\u001b[39m=\u001b[39m\u001b[39mTrue\u001b[39;00m, accumulate_grad\u001b[39m=\u001b[39m\u001b[39mTrue\u001b[39;00m)\n",
            "\u001b[0;31mKeyboardInterrupt\u001b[0m: "
          ]
        }
      ],
      "source": [
        "# results\n",
        "results = train(model=model,\n",
        "                train_dataloader=train_dataloader,\n",
        "                validation_dataloader=val_dataloader,\n",
        "                optimizer=optimizer,\n",
        "                loss_fn=loss_fn,\n",
        "                epochs=epochs,\n",
        "                device=device,\n",
        "                scheduler=scheduler,\n",
        "                early_stopping=early_stopping,\n",
        "                model_name=MODEL_NAME)"
      ]
    },
    {
      "cell_type": "markdown",
      "metadata": {},
      "source": [
        "### Testing on Test Images"
      ]
    },
    {
      "cell_type": "code",
      "execution_count": null,
      "metadata": {},
      "outputs": [],
      "source": [
        "import random\n",
        "from torch.utils.data import Dataset, DataLoader\n",
        "from torchvision.io import read_image\n",
        "\n",
        "test_imgs = os.listdir(config['dataset']['images']['test'])\n",
        "test_img = test_imgs[random.randint(0, len(test_imgs))]"
      ]
    },
    {
      "cell_type": "code",
      "execution_count": null,
      "metadata": {},
      "outputs": [],
      "source": [
        "# Best model\n",
        "best_model = MnasNet(10) \n",
        "best_model.load_state_dict(torch.load('/Users/rasmuskrebs/Documents/School/semester_3/advanced_ml/aml_itu/outputs/MnasNet/MnasNet_20231201_083505_best.pt'))\n",
        "best_model.to(device)\n",
        "\n",
        "best_acc, best_lab, best_pred = test_loop(best_model, val_dataloader, device)"
      ]
    },
    {
      "cell_type": "code",
      "execution_count": null,
      "metadata": {},
      "outputs": [],
      "source": [
        "test_dataloader = DataLoader(test_data, batch_size=64, shuffle=True)"
      ]
    },
    {
      "cell_type": "code",
      "execution_count": null,
      "metadata": {},
      "outputs": [],
      "source": [
        "for i, data in enumerate(test_dataloader):\n",
        "    imgs, labels = data\n",
        "    imgs, labels = imgs.to(device), labels.to(device)\n",
        "    \n",
        "    # Forward pass\n",
        "    prediction = model(imgs)\n",
        "    \n",
        "    break"
      ]
    },
    {
      "cell_type": "code",
      "execution_count": null,
      "metadata": {},
      "outputs": [],
      "source": [
        "prediction.argmax(1)[0].item()"
      ]
    },
    {
      "cell_type": "code",
      "execution_count": null,
      "metadata": {},
      "outputs": [],
      "source": [
        "index = 16\n",
        "print('Prediction:', config['dataset']['class_mapping']['c' + str(prediction.argmax(1)[index].item())])\n",
        "print('True:', config['dataset']['class_mapping']['c' + str(labels[index].item())])\n",
        "\n",
        "plt.imshow(imgs[index].cpu().permute(1, 2, 0))"
      ]
    }
  ],
  "metadata": {
    "accelerator": "GPU",
    "colab": {
      "gpuType": "T4",
      "include_colab_link": true,
      "provenance": []
    },
    "kernelspec": {
      "display_name": "Python 3",
      "name": "python3"
    },
    "language_info": {
      "codemirror_mode": {
        "name": "ipython",
        "version": 3
      },
      "file_extension": ".py",
      "mimetype": "text/x-python",
      "name": "python",
      "nbconvert_exporter": "python",
      "pygments_lexer": "ipython3",
      "version": "3.11.3"
    }
  },
  "nbformat": 4,
  "nbformat_minor": 0
}
