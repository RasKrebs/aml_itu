{
 "cells": [
  {
   "cell_type": "markdown",
   "metadata": {},
   "source": [
    "### Setup"
   ]
  },
  {
   "cell_type": "code",
   "execution_count": 1,
   "metadata": {},
   "outputs": [
    {
     "name": "stdout",
     "output_type": "stream",
     "text": [
      "MPS device found.\n"
     ]
    }
   ],
   "source": [
    "import numpy as np\n",
    "import os\n",
    "import torch\n",
    "import time\n",
    "import torch\n",
    "from torch import nn\n",
    "import torchvision\n",
    "torchvision.disable_beta_transforms_warning()\n",
    "import torchvision.transforms as T\n",
    "from torchvision.transforms import v2\n",
    "from torch.utils.data import DataLoader\n",
    "import matplotlib.pyplot as plt\n",
    "import kornia\n",
    "from IPython import display\n",
    "import cv2 as cv\n",
    "\n",
    "os.environ[\"COLAB\"] = \"False\"\n",
    "# Changing directory into aml_itu\n",
    "if os.getcwd().split('/')[-1] != 'aml_itu': os.chdir(os.path.abspath('.').split('aml_itu/')[0]+'aml_itu')\n",
    "\n",
    "from utils.helpers import *\n",
    "from utils.StatefarmPytorchDataset import StateFarmDataset\n",
    "\n",
    "# Setting up device\n",
    "if torch.cuda.is_available():\n",
    "    device = torch.device(\"cuda\")\n",
    "    print (f\"GPU is available\")\n",
    "elif torch.backends.mps.is_available():\n",
    "    device = torch.device(\"mps\")\n",
    "    print('MPS device found.')\n",
    "else:\n",
    "    print (\"No GPU available, using CPU instead\")\n",
    "    \n",
    "    \n",
    "from utils.models.EfficientNet import EfficientNet\n",
    "from utils.models.TinyVGG import TinyVGG\n",
    "from utils.pipelines.image_transformation import image_transformer"
   ]
  },
  {
   "cell_type": "code",
   "execution_count": 2,
   "metadata": {},
   "outputs": [],
   "source": [
    "# Load config\n",
    "config = load_config(eval(os.environ[\"COLAB\"]))"
   ]
  },
  {
   "cell_type": "markdown",
   "metadata": {},
   "source": [
    "#### Load Models"
   ]
  },
  {
   "cell_type": "code",
   "execution_count": 3,
   "metadata": {},
   "outputs": [],
   "source": [
    "# Path and directory files\n",
    "efficinetnet_path = os.path.join(config['outputs']['path'], 'EfficientNet_b0_AdamW')\n",
    "efficientnet_models = os.listdir(os.path.join(config['outputs']['path'], 'EfficientNet_b0_AdamW'))\n",
    "last_efficientnet_model = sorted(efficientnet_models)[-1]\n",
    "\n",
    "efficient = EfficientNet()\n",
    "\n",
    "# Load parameters from last model\n",
    "efficient.load_state_dict(torch.load(os.path.join(efficinetnet_path, last_efficientnet_model)))"
   ]
  },
  {
   "cell_type": "code",
   "execution_count": 4,
   "metadata": {},
   "outputs": [],
   "source": [
    "# Path and directory files\n",
    "TinyVGG_path = os.path.join(config['outputs']['path'], 'TinyVGG_500k')\n",
    "TinyVGG_file = 'TinyVGG_500k_final.pt'\n",
    "\n",
    "# initalize model\n",
    "tinyvgg = TinyVGG()\n",
    "\n",
    "# Load parameters from last model\n",
    "tinyvgg.load_state_dict(torch.load(os.path.join(TinyVGG_path, TinyVGG_file)))"
   ]
  },
  {
   "cell_type": "markdown",
   "metadata": {},
   "source": [
    "## Run Test"
   ]
  },
  {
   "cell_type": "code",
   "execution_count": 30,
   "metadata": {},
   "outputs": [],
   "source": [
    "def test(model, \n",
    "         device,\n",
    "         img_size='L_SQUARED'):\n",
    "    \"\"\"Test loop\"\"\"\n",
    "    print('Starting test loop')\n",
    "    # Target Transformations (Removing the c from the target)\n",
    "    target_transform = T.Lambda(lambda y: torch.tensor(int(y.replace('c', ''))))\n",
    "   \n",
    "    # Predefined image sizes\n",
    "    img_sizes = {\n",
    "        'S': (48, 64),\n",
    "        'M': (93, 124),\n",
    "        'L':(168, 224),\n",
    "        'L_SQUARED':(224, 224),\n",
    "    }\n",
    "    \n",
    "    # Image augmentations - apply default if none is specified\n",
    "    image_augmentations = v2.Compose([T.Resize(img_sizes[img_size], antialias=True),\n",
    "                                      # T.RandomHorizontalFlip(p=1),\n",
    "                                      v2.ToDtype(torch.float32, scale=True)])\n",
    "    \n",
    "    print('Loading test data')\n",
    "    # Creating the dataset\n",
    "    test_data = StateFarmDataset(config, \n",
    "                            split='test', \n",
    "                            transform=image_augmentations, \n",
    "                            target_transform=target_transform)\n",
    "    \n",
    "    # Creating the dataloader\n",
    "    test_loader = DataLoader(test_data, \n",
    "                            batch_size=32, \n",
    "                            shuffle=False)\n",
    "\n",
    "    # Setup test accuracy\n",
    "    test_acc = 0\n",
    "    \n",
    "    # Setup lists for storing images, classes and predictions\n",
    "    images = []\n",
    "    classes = []\n",
    "    predictions = []\n",
    "    predictions_argmax = []\n",
    "    \n",
    "    # Set model to eval\n",
    "    model = model.eval()\n",
    "    \n",
    "    # Sent model to device\n",
    "    model = model.to(device)\n",
    "    \n",
    "    print('Starting loop through test data...')\n",
    "    # Disable gradient calculations\n",
    "    with torch.no_grad():\n",
    "        for i, data in enumerate(test_loader):   \n",
    "            # Extract imgs and labels and sent to device\n",
    "            imgs, labels = data\n",
    "            images.append(imgs), classes.append(labels)\n",
    "            \n",
    "            imgs, labels  = imgs.to(device), labels.to(device)\n",
    "\n",
    "            # Forward pass\n",
    "            prediction = model(imgs)\n",
    "            predictions.append(prediction)\n",
    "            predictions_argmax.append(prediction.argmax(1))\n",
    "\n",
    "            # Update test accuracy\n",
    "            test_acc += (prediction.argmax(1) == labels).type(torch.float).mean().item()\n",
    "    # Return test accuracy\n",
    "    print(f'Test Done. Accuracy {test_acc / len(test_loader)}')\n",
    "    return images, classes, predictions, predictions_argmax"
   ]
  },
  {
   "cell_type": "code",
   "execution_count": 31,
   "metadata": {},
   "outputs": [
    {
     "name": "stdout",
     "output_type": "stream",
     "text": [
      "Starting test loop\n",
      "Loading test data\n",
      "Starting loop through test data...\n",
      "Test Done. Accuracy 0.7943350460431348\n"
     ]
    }
   ],
   "source": [
    "test_prediction = test(efficient, device, img_size='L_SQUARED')"
   ]
  },
  {
   "cell_type": "code",
   "execution_count": null,
   "metadata": {},
   "outputs": [],
   "source": []
  }
 ],
 "metadata": {
  "kernelspec": {
   "display_name": "base",
   "language": "python",
   "name": "python3"
  },
  "language_info": {
   "codemirror_mode": {
    "name": "ipython",
    "version": 3
   },
   "file_extension": ".py",
   "mimetype": "text/x-python",
   "name": "python",
   "nbconvert_exporter": "python",
   "pygments_lexer": "ipython3",
   "version": "3.11.3"
  }
 },
 "nbformat": 4,
 "nbformat_minor": 2
}
